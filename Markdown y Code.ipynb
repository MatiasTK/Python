{
 "cells": [
  {
   "cell_type": "markdown",
   "id": "e6986f39",
   "metadata": {},
   "source": [
    "# Asi hago un titulo en markdown\n",
    "## Esto es un subtitulo en markdown\n",
    "Esto es una descripcion\n",
    "\n",
    "*Esto es un texto en cursiva*\n",
    "\n",
    "**Esto es un texto en negrita**\n"
   ]
  },
  {
   "cell_type": "code",
   "execution_count": 1,
   "id": "285a259d",
   "metadata": {},
   "outputs": [
    {
     "name": "stdout",
     "output_type": "stream",
     "text": [
      "Hola mundo\n"
     ]
    }
   ],
   "source": [
    "print(\"Hola mundo\")"
   ]
  },
  {
   "cell_type": "code",
   "execution_count": 5,
   "id": "ef171fd1",
   "metadata": {},
   "outputs": [
    {
     "name": "stdout",
     "output_type": "stream",
     "text": [
      "\n"
     ]
    },
    {
     "data": {
      "text/plain": [
       "''"
      ]
     },
     "execution_count": 5,
     "metadata": {},
     "output_type": "execute_result"
    }
   ],
   "source": [
    "input()"
   ]
  },
  {
   "cell_type": "code",
   "execution_count": 7,
   "id": "559c31ba",
   "metadata": {},
   "outputs": [
    {
     "name": "stdout",
     "output_type": "stream",
     "text": [
      "Print sirve para mostrar texto por pantalla\n"
     ]
    }
   ],
   "source": [
    "print(\"Print sirve para mostrar texto por pantalla\")"
   ]
  },
  {
   "cell_type": "code",
   "execution_count": null,
   "id": "9a1f13e9",
   "metadata": {},
   "outputs": [],
   "source": []
  },
  {
   "cell_type": "code",
   "execution_count": null,
   "id": "4e968a33",
   "metadata": {},
   "outputs": [],
   "source": []
  }
 ],
 "metadata": {
  "kernelspec": {
   "display_name": "Python 3",
   "language": "python",
   "name": "python3"
  },
  "language_info": {
   "codemirror_mode": {
    "name": "ipython",
    "version": 3
   },
   "file_extension": ".py",
   "mimetype": "text/x-python",
   "name": "python",
   "nbconvert_exporter": "python",
   "pygments_lexer": "ipython3",
   "version": "3.8.8"
  }
 },
 "nbformat": 4,
 "nbformat_minor": 5
}
