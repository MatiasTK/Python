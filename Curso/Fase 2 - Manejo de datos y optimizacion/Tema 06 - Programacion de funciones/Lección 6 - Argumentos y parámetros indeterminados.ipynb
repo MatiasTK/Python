{
 "cells": [
  {
   "cell_type": "code",
   "execution_count": 1,
   "source": [
    "#Enviar varios datos a una funcion -> Una tupla\r\n",
    "def indeterminados_posicion(*args):\r\n",
    "    print(args)\r\n",
    "\r\n",
    "indeterminados_posicion(5,\"Hola\",[1,2,3,4,5])"
   ],
   "outputs": [
    {
     "output_type": "stream",
     "name": "stdout",
     "text": [
      "(5, 'Hola', [1, 2, 3, 4, 5])\n"
     ]
    }
   ],
   "metadata": {}
  },
  {
   "cell_type": "code",
   "execution_count": 3,
   "source": [
    "def indeterminados_posicion(*args):\r\n",
    "    for arg in args:\r\n",
    "        print(arg)\r\n",
    "\r\n",
    "indeterminados_posicion(5,\"Hola\",[1,2,3,4,5])"
   ],
   "outputs": [
    {
     "output_type": "stream",
     "name": "stdout",
     "text": [
      "5\n",
      "Hola\n",
      "[1, 2, 3, 4, 5]\n"
     ]
    }
   ],
   "metadata": {}
  },
  {
   "cell_type": "code",
   "execution_count": 4,
   "source": [
    "#Diccionarios -> se ponen **kwargs -> keyword args\r\n",
    "def indeterminados_nombre(**kwargs):\r\n",
    "    print(kwargs)\r\n",
    "\r\n",
    "indeterminados_nombre(n = 5,c = \"Hola\",l = [1,2,3,4,5])\r\n"
   ],
   "outputs": [
    {
     "output_type": "stream",
     "name": "stdout",
     "text": [
      "{'n': 5, 'c': 'Hola', 'l': [1, 2, 3, 4, 5]}\n"
     ]
    }
   ],
   "metadata": {}
  },
  {
   "cell_type": "code",
   "execution_count": 5,
   "source": [
    "def indeterminados_nombre(**kwargs):\r\n",
    "    for kwarg in kwargs:\r\n",
    "        print(kwarg)\r\n",
    "    \r\n",
    "indeterminados_nombre(n = 5,c = \"Hola\",l = [1,2,3,4,5])"
   ],
   "outputs": [
    {
     "output_type": "stream",
     "name": "stdout",
     "text": [
      "n\n",
      "c\n",
      "l\n"
     ]
    }
   ],
   "metadata": {}
  },
  {
   "cell_type": "code",
   "execution_count": 9,
   "source": [
    "def indeterminados_nombre(**kwargs):\r\n",
    "    for kwarg in kwargs:\r\n",
    "        print(kwarg,\" = \",kwargs[kwarg])\r\n",
    "    \r\n",
    "indeterminados_nombre(n = 5,c = \"Hola\",l = [1,2,3,4,5])"
   ],
   "outputs": [
    {
     "output_type": "stream",
     "name": "stdout",
     "text": [
      "n  =  5\n",
      "c  =  Hola\n",
      "l  =  [1, 2, 3, 4, 5]\n"
     ]
    }
   ],
   "metadata": {}
  },
  {
   "cell_type": "code",
   "execution_count": 12,
   "source": [
    "#Superfuncion!\r\n",
    "\r\n",
    "def super_funcion(*args,**kwargs):\r\n",
    "    total = 0\r\n",
    "    for arg in args:\r\n",
    "        total += arg\r\n",
    "    print(\"Suma de numeros =\",total)\r\n",
    "    \r\n",
    "    for kwarg in kwargs:\r\n",
    "        print(kwarg,\" = \",kwargs[kwarg])\r\n",
    "\r\n",
    "super_funcion(10,50,-1,1.56,nombre = \"Matias\",edad = 20)\r\n"
   ],
   "outputs": [
    {
     "output_type": "stream",
     "name": "stdout",
     "text": [
      "Suma de numeros = 60.56\n",
      "nombre  =  Matias\n",
      "edad  =  20\n"
     ]
    }
   ],
   "metadata": {}
  }
 ],
 "metadata": {
  "language_info": {
   "name": "python",
   "version": "3.8.8",
   "mimetype": "text/x-python",
   "codemirror_mode": {
    "name": "ipython",
    "version": 3
   },
   "pygments_lexer": "ipython3",
   "nbconvert_exporter": "python",
   "file_extension": ".py"
  },
  "kernelspec": {
   "name": "python3",
   "display_name": "Python 3.8.8 64-bit ('base': conda)"
  },
  "interpreter": {
   "hash": "1386f00db9e6238f77d958fc7d28ba18915e180ae7aa41965f9b6571c5908d2d"
  }
 },
 "nbformat": 4,
 "nbformat_minor": 2
}