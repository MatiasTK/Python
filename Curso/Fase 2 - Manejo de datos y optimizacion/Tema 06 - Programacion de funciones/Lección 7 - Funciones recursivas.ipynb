{
 "cells": [
  {
   "cell_type": "code",
   "execution_count": 1,
   "source": [
    "#Recursividad\r\n",
    "def cuenta_atras(num):\r\n",
    "    num -= 1\r\n",
    "    if num > 0:\r\n",
    "        print(num)\r\n",
    "        cuenta_atras(num)\r\n",
    "    else: \r\n",
    "        print(\"Boooooom!\")\r\n",
    "\r\n",
    "cuenta_atras(5)"
   ],
   "outputs": [
    {
     "output_type": "stream",
     "name": "stdout",
     "text": [
      "4\n",
      "3\n",
      "2\n",
      "1\n",
      "Boooooom!\n"
     ]
    }
   ],
   "metadata": {}
  },
  {
   "cell_type": "code",
   "execution_count": 2,
   "source": [
    "def cuenta_atras(num):\r\n",
    "    num -= 1\r\n",
    "    if num > 0:\r\n",
    "        print(num)\r\n",
    "        cuenta_atras(num)\r\n",
    "    else: \r\n",
    "        print(\"Boooooom!\")\r\n",
    "    print(\"Fin de la funcion\",num) # Lo imrpime al final ya que es al final que va como \"Cerrando los procesos de la recursividad\"\r\n",
    "\r\n",
    "cuenta_atras(5)"
   ],
   "outputs": [
    {
     "output_type": "stream",
     "name": "stdout",
     "text": [
      "4\n",
      "3\n",
      "2\n",
      "1\n",
      "Boooooom!\n",
      "Fin de la funcion 0\n",
      "Fin de la funcion 1\n",
      "Fin de la funcion 2\n",
      "Fin de la funcion 3\n",
      "Fin de la funcion 4\n"
     ]
    }
   ],
   "metadata": {}
  },
  {
   "cell_type": "code",
   "execution_count": 8,
   "source": [
    "def factorial(num):\r\n",
    "    print(\"Valor incial ->\",num)\r\n",
    "    if num > 1:\r\n",
    "        num = num * factorial(num-1)\r\n",
    "    print(\"Valor final ->\",num)\r\n",
    "    return num\r\n",
    "\r\n",
    "num = 5\r\n",
    "print(factorial(num))"
   ],
   "outputs": [
    {
     "output_type": "stream",
     "name": "stdout",
     "text": [
      "Valor incial -> 5\n",
      "Valor incial -> 4\n",
      "Valor incial -> 3\n",
      "Valor incial -> 2\n",
      "Valor incial -> 1\n",
      "Valor final -> 1\n",
      "Valor final -> 2\n",
      "Valor final -> 6\n",
      "Valor final -> 24\n",
      "Valor final -> 120\n",
      "120\n"
     ]
    }
   ],
   "metadata": {}
  }
 ],
 "metadata": {
  "language_info": {
   "name": "python",
   "version": "3.8.8",
   "mimetype": "text/x-python",
   "codemirror_mode": {
    "name": "ipython",
    "version": 3
   },
   "pygments_lexer": "ipython3",
   "nbconvert_exporter": "python",
   "file_extension": ".py"
  },
  "kernelspec": {
   "name": "python3",
   "display_name": "Python 3.8.8 64-bit ('base': conda)"
  },
  "interpreter": {
   "hash": "1386f00db9e6238f77d958fc7d28ba18915e180ae7aa41965f9b6571c5908d2d"
  }
 },
 "nbformat": 4,
 "nbformat_minor": 2
}