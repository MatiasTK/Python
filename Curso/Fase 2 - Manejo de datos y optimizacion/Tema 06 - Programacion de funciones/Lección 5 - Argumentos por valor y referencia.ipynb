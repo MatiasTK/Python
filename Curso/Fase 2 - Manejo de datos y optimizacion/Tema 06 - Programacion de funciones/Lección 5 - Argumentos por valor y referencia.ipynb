{
 "cells": [
  {
   "cell_type": "code",
   "execution_count": 6,
   "source": [
    "#Envios por valor -> Se crea una copia en la funcion\r\n",
    "#Envios por referencia -> Manejas el dato original -> se modifican en la variable exterior o global\r\n",
    "\r\n",
    "#Paso por valor\r\n",
    "def doblar_valor(numero):\r\n",
    "    numero *= 2\r\n",
    "\r\n",
    "numero = 10\r\n",
    "\r\n",
    "print(n )"
   ],
   "outputs": [
    {
     "output_type": "stream",
     "name": "stdout",
     "text": [
      "10\n"
     ]
    }
   ],
   "metadata": {}
  },
  {
   "cell_type": "code",
   "execution_count": 9,
   "source": [
    "#Paso por referencia -> Ya que es una lista esta se pasa por referencia y cuando la vuelvo a imprimir se imprime con la operacion previamente hecha a pesar de ser una lista global\r\n",
    "def doblar_valores(numeros):\r\n",
    "    for i,n in enumerate(numeros):\r\n",
    "        numeros[i] *= 2\r\n",
    "\r\n",
    "ns = [10,50,100]\r\n",
    "doblar_valores(ns)\r\n",
    "ns\r\n",
    "#NO EXISTEN LOS PUNTEROS EN PYTHON COMO EN C -> No tenes que indicar que pasas por referencia y que no, los datos simples siempre se pasan por valor y las listas o muchas cosas se pasan por referencia"
   ],
   "outputs": [
    {
     "output_type": "execute_result",
     "data": {
      "text/plain": [
       "[20, 100, 200]"
      ]
     },
     "metadata": {},
     "execution_count": 9
    }
   ],
   "metadata": {}
  },
  {
   "cell_type": "code",
   "execution_count": 11,
   "source": [
    "#De esta manera yo puedo guardar en una variable que se envia por valor sus cambios\r\n",
    "def doblar_valor(numero):\r\n",
    "    return numero*2\r\n",
    "\r\n",
    "n = 10\r\n",
    "n = doblar_valor(n)\r\n",
    "print(n)"
   ],
   "outputs": [
    {
     "output_type": "stream",
     "name": "stdout",
     "text": [
      "20\n"
     ]
    }
   ],
   "metadata": {}
  },
  {
   "cell_type": "code",
   "execution_count": 12,
   "source": [
    "#De esta manera evito que la lista se modifique -> al ponerle [:] se envia una copia de la lista y no la original -> Slicing\r\n",
    "def doblar_valores(numeros):\r\n",
    "    for i,n in enumerate(numeros):\r\n",
    "        numeros[i] *= 2\r\n",
    "\r\n",
    "ns = [10,50,100]\r\n",
    "doblar_valores(ns[:])\r\n",
    "ns"
   ],
   "outputs": [
    {
     "output_type": "execute_result",
     "data": {
      "text/plain": [
       "[10, 50, 100]"
      ]
     },
     "metadata": {},
     "execution_count": 12
    }
   ],
   "metadata": {}
  }
 ],
 "metadata": {
  "language_info": {
   "name": "python",
   "version": "3.8.8",
   "mimetype": "text/x-python",
   "codemirror_mode": {
    "name": "ipython",
    "version": 3
   },
   "pygments_lexer": "ipython3",
   "nbconvert_exporter": "python",
   "file_extension": ".py"
  },
  "kernelspec": {
   "name": "python3",
   "display_name": "Python 3.8.8 64-bit ('base': conda)"
  },
  "interpreter": {
   "hash": "1386f00db9e6238f77d958fc7d28ba18915e180ae7aa41965f9b6571c5908d2d"
  }
 },
 "nbformat": 4,
 "nbformat_minor": 2
}