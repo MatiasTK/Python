{
 "cells": [
  {
   "cell_type": "code",
   "execution_count": 4,
   "source": [
    "#Enviar cosas a una funcion -> igual que en C\r\n",
    "def suma(a,b):\r\n",
    "    return a + b\r\n",
    "\r\n",
    "a = 10 \r\n",
    "b = 5\r\n",
    "print(suma(a,b))\r\n",
    "#Otra forma\r\n",
    "print(suma(5,5)) # Esto es mas hardcodeo acordate"
   ],
   "outputs": [
    {
     "output_type": "stream",
     "name": "stdout",
     "text": [
      "15\n",
      "10\n"
     ]
    }
   ],
   "metadata": {}
  }
 ],
 "metadata": {
  "language_info": {
   "name": "python",
   "version": "3.8.8",
   "mimetype": "text/x-python",
   "codemirror_mode": {
    "name": "ipython",
    "version": 3
   },
   "pygments_lexer": "ipython3",
   "nbconvert_exporter": "python",
   "file_extension": ".py"
  },
  "kernelspec": {
   "name": "python3",
   "display_name": "Python 3.8.8 64-bit ('base': conda)"
  },
  "interpreter": {
   "hash": "1386f00db9e6238f77d958fc7d28ba18915e180ae7aa41965f9b6571c5908d2d"
  }
 },
 "nbformat": 4,
 "nbformat_minor": 2
}