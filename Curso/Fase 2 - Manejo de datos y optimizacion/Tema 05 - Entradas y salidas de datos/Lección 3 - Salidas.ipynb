{
 "cells": [
  {
   "cell_type": "code",
   "execution_count": 1,
   "source": [
    "v = \"otro texto\"\r\n",
    "n = 10\r\n",
    "print(\"Un texto\",v,\"Y un numero\",n)"
   ],
   "outputs": [
    {
     "output_type": "stream",
     "name": "stdout",
     "text": [
      "Un texto otro texto Y un numero 10\n"
     ]
    }
   ],
   "metadata": {}
  },
  {
   "cell_type": "code",
   "execution_count": 2,
   "source": [
    "c = \"Un texto {} y un numero {}\".format(v,n)\r\n",
    "c"
   ],
   "outputs": [
    {
     "output_type": "execute_result",
     "data": {
      "text/plain": [
       "'Un texto otro texto y un numero 10'"
      ]
     },
     "metadata": {},
     "execution_count": 2
    }
   ],
   "metadata": {}
  },
  {
   "cell_type": "code",
   "execution_count": 3,
   "source": [
    "print(c)"
   ],
   "outputs": [
    {
     "output_type": "stream",
     "name": "stdout",
     "text": [
      "Un texto otro texto y un numero 10\n"
     ]
    }
   ],
   "metadata": {}
  },
  {
   "cell_type": "code",
   "execution_count": 5,
   "source": [
    "print(\"Un texto {1} y un numero {0}\".format(v,n))"
   ],
   "outputs": [
    {
     "output_type": "stream",
     "name": "stdout",
     "text": [
      "Un texto 10 y un numero otro texto\n"
     ]
    }
   ],
   "metadata": {}
  },
  {
   "cell_type": "code",
   "execution_count": 6,
   "source": [
    "print(\"Un texto {texto} y un numero {numero}\".format(texto = v,numero = n))"
   ],
   "outputs": [
    {
     "output_type": "stream",
     "name": "stdout",
     "text": [
      "Un texto otro texto y un numero 10\n"
     ]
    }
   ],
   "metadata": {}
  },
  {
   "cell_type": "code",
   "execution_count": 8,
   "source": [
    "print(\"Un texto {v} y un numero {n}\".format(v=v,n=n))"
   ],
   "outputs": [
    {
     "output_type": "stream",
     "name": "stdout",
     "text": [
      "Un texto otro texto y un numero 10\n"
     ]
    }
   ],
   "metadata": {}
  },
  {
   "cell_type": "code",
   "execution_count": 9,
   "source": [
    "print(\"{v},{v},{v}\".format(v=v))"
   ],
   "outputs": [
    {
     "output_type": "stream",
     "name": "stdout",
     "text": [
      "otro texto,otro texto,otro texto\n"
     ]
    }
   ],
   "metadata": {}
  },
  {
   "cell_type": "code",
   "execution_count": 22,
   "source": [
    "#alinear 30 a la derecha \r\n",
    "s = \"palabra\"\r\n",
    "print(\"{:>30}\".format(s)) #lo empuja 30 caracteres\r\n",
    "print(\"{:30}\".format(s))\r\n",
    "print(\"{:^30}\".format(s)) # lo centra\r\n",
    "print(\"{:.3}\".format(s)) #Truncar 3 caracteres -> Es igual que en el float cuando queres recortar caracteres\r\n",
    "print(\"{:>30.3}\".format(s)) #Alineamiento y truncamiento"
   ],
   "outputs": [
    {
     "output_type": "stream",
     "name": "stdout",
     "text": [
      "                       palabra\n",
      "palabra                       \n",
      "           palabra            \n",
      "pal\n",
      "                           pal\n"
     ]
    }
   ],
   "metadata": {}
  },
  {
   "cell_type": "code",
   "execution_count": 25,
   "source": [
    "#Formateo de enteros\r\n",
    "print(\"{:4d}\".format(10)) #4d -> 4 digitos\r\n",
    "print(\"{:4d}\".format(100))\r\n",
    "print(\"{:4d}\".format(1000))"
   ],
   "outputs": [
    {
     "output_type": "stream",
     "name": "stdout",
     "text": [
      "  10\n",
      " 100\n",
      "1000\n"
     ]
    }
   ],
   "metadata": {}
  },
  {
   "cell_type": "code",
   "execution_count": 26,
   "source": [
    "#Rellenar con 0\r\n",
    "print(\"{:04d}\".format(10)) \r\n",
    "print(\"{:04d}\".format(100))\r\n",
    "print(\"{:04d}\".format(1000))"
   ],
   "outputs": [
    {
     "output_type": "stream",
     "name": "stdout",
     "text": [
      "0010\n",
      "0100\n",
      "1000\n"
     ]
    }
   ],
   "metadata": {}
  },
  {
   "cell_type": "code",
   "execution_count": 33,
   "source": [
    "#Formateo de flotantes\r\n",
    "f = 3.14159256\r\n",
    "print(\"{:8.2f}\".format(f)) #Es 8 es para alinearlo para 8 caracteres el .2 es para recortarlo a 2 decimales\r\n",
    "print(\"{:8.3f}\".format(153.21))\r\n"
   ],
   "outputs": [
    {
     "output_type": "stream",
     "name": "stdout",
     "text": [
      "    3.14\n",
      " 153.210\n"
     ]
    }
   ],
   "metadata": {}
  },
  {
   "cell_type": "code",
   "execution_count": 36,
   "source": [
    "f = 3.14159256\r\n",
    "print(\"{:08.2f}\".format(f)) \r\n",
    "print(\"{:08.3f}\".format(153.21))\r\n"
   ],
   "outputs": [
    {
     "output_type": "stream",
     "name": "stdout",
     "text": [
      "00003.14\n",
      "0153.210\n"
     ]
    }
   ],
   "metadata": {}
  }
 ],
 "metadata": {
  "language_info": {
   "name": "python",
   "version": "3.8.8",
   "mimetype": "text/x-python",
   "codemirror_mode": {
    "name": "ipython",
    "version": 3
   },
   "pygments_lexer": "ipython3",
   "nbconvert_exporter": "python",
   "file_extension": ".py"
  },
  "kernelspec": {
   "name": "python3",
   "display_name": "Python 3.8.8 64-bit ('base': conda)"
  },
  "interpreter": {
   "hash": "1386f00db9e6238f77d958fc7d28ba18915e180ae7aa41965f9b6571c5908d2d"
  }
 },
 "nbformat": 4,
 "nbformat_minor": 2
}