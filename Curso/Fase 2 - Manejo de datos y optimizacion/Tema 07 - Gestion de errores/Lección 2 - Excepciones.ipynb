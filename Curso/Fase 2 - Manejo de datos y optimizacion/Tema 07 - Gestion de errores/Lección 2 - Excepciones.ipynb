{
 "cells": [
  {
   "cell_type": "code",
   "execution_count": 1,
   "source": [
    "#Las excepciones son defensas ante errores -> Cuando el usuario no ingresa lo que es debido\r\n",
    "n = int(input(\"Ingresa un numero: \"))\r\n",
    "m = 4\r\n",
    "print(n/4)"
   ],
   "outputs": [
    {
     "output_type": "error",
     "ename": "ValueError",
     "evalue": "invalid literal for int() with base 10: 'aaa'",
     "traceback": [
      "\u001b[1;31m---------------------------------------------------------------------------\u001b[0m",
      "\u001b[1;31mValueError\u001b[0m                                Traceback (most recent call last)",
      "\u001b[1;32m<ipython-input-1-e3eb5689c2ac>\u001b[0m in \u001b[0;36m<module>\u001b[1;34m\u001b[0m\n\u001b[0;32m      1\u001b[0m \u001b[1;31m#Las excepciones son defensas ante errores -> Cuando el usuario no ingresa lo que es debido\u001b[0m\u001b[1;33m\u001b[0m\u001b[1;33m\u001b[0m\u001b[1;33m\u001b[0m\u001b[0m\n\u001b[1;32m----> 2\u001b[1;33m \u001b[0mn\u001b[0m \u001b[1;33m=\u001b[0m \u001b[0mint\u001b[0m\u001b[1;33m(\u001b[0m\u001b[0minput\u001b[0m\u001b[1;33m(\u001b[0m\u001b[1;34m\"Ingresa un numero: \"\u001b[0m\u001b[1;33m)\u001b[0m\u001b[1;33m)\u001b[0m\u001b[1;33m\u001b[0m\u001b[1;33m\u001b[0m\u001b[0m\n\u001b[0m\u001b[0;32m      3\u001b[0m \u001b[0mm\u001b[0m \u001b[1;33m=\u001b[0m \u001b[1;36m4\u001b[0m\u001b[1;33m\u001b[0m\u001b[1;33m\u001b[0m\u001b[0m\n\u001b[0;32m      4\u001b[0m \u001b[0mprint\u001b[0m\u001b[1;33m(\u001b[0m\u001b[0mn\u001b[0m\u001b[1;33m/\u001b[0m\u001b[1;36m4\u001b[0m\u001b[1;33m)\u001b[0m\u001b[1;33m\u001b[0m\u001b[1;33m\u001b[0m\u001b[0m\n",
      "\u001b[1;31mValueError\u001b[0m: invalid literal for int() with base 10: 'aaa'"
     ]
    }
   ],
   "metadata": {}
  },
  {
   "cell_type": "code",
   "execution_count": 2,
   "source": [
    "#Evito que se detenga la ejecucion\r\n",
    "try:\r\n",
    "    n = int(input(\"Ingresa un numero: \"))\r\n",
    "    m = 4\r\n",
    "    print(n/4)\r\n",
    "except:\r\n",
    "    print(\"Ha ocurrido un error, introduce bien el numero\")"
   ],
   "outputs": [
    {
     "output_type": "stream",
     "name": "stdout",
     "text": [
      "Ha ocurrido un error, introduce bien el numero\n"
     ]
    }
   ],
   "metadata": {}
  },
  {
   "cell_type": "code",
   "execution_count": 4,
   "source": [
    "#Va a repetirse hasta que se introduzca un numero\r\n",
    "while(True):\r\n",
    "    try:\r\n",
    "        n = int(input(\"Ingresa un numero: \"))\r\n",
    "        m = 4\r\n",
    "        print(n/4)\r\n",
    "        break # Importante para salir del while\r\n",
    "    except:\r\n",
    "        print(\"Ha ocurrido un error, introduce bien el numero\")"
   ],
   "outputs": [
    {
     "output_type": "stream",
     "name": "stdout",
     "text": [
      "Ha ocurrido un error, introduce bien el numero\n",
      "Ha ocurrido un error, introduce bien el numero\n",
      "Ha ocurrido un error, introduce bien el numero\n",
      "Ha ocurrido un error, introduce bien el numero\n",
      "1.25\n"
     ]
    }
   ],
   "metadata": {}
  },
  {
   "cell_type": "code",
   "execution_count": 5,
   "source": [
    "#Correcta forma de utilizarlo\r\n",
    "while(True):\r\n",
    "    try:\r\n",
    "        n = int(input(\"Ingresa un numero: \"))\r\n",
    "        m = 4\r\n",
    "        print(n/4)\r\n",
    "    except:\r\n",
    "        print(\"Ha ocurrido un error, introduce bien el numero\")\r\n",
    "    else:\r\n",
    "        print(\"Todo ha funcionado correctamente\")\r\n",
    "        break"
   ],
   "outputs": [
    {
     "output_type": "stream",
     "name": "stdout",
     "text": [
      "Ha ocurrido un error, introduce bien el numero\n",
      "0.5\n",
      "Todo ha funcionado correctamente\n"
     ]
    }
   ],
   "metadata": {}
  },
  {
   "cell_type": "code",
   "execution_count": 6,
   "source": [
    "while(True):\r\n",
    "    try:\r\n",
    "        n = int(input(\"Ingresa un numero: \"))\r\n",
    "        m = 4\r\n",
    "        print(n/4)\r\n",
    "    except:\r\n",
    "        print(\"Ha ocurrido un error, introduce bien el numero\")\r\n",
    "    else:\r\n",
    "        print(\"Todo ha funcionado correctamente\")\r\n",
    "        break\r\n",
    "    finally: # -> Se ejecuta despues del while aunque este no sea correcto\r\n",
    "        print(\"Fin de la iteracion\")"
   ],
   "outputs": [
    {
     "output_type": "stream",
     "name": "stdout",
     "text": [
      "Ha ocurrido un error, introduce bien el numero\n",
      "Fin de la iteracion\n",
      "Ha ocurrido un error, introduce bien el numero\n",
      "Fin de la iteracion\n",
      "1.0\n",
      "Todo ha funcionado correctamente\n",
      "Fin de la iteracion\n"
     ]
    }
   ],
   "metadata": {}
  },
  {
   "cell_type": "markdown",
   "source": [
    "# Resumen\r\n",
    "Try -> Captura errores  \r\n",
    "Except -> Definir el codigo excepcional (Si ocurre un error)  \r\n",
    "Else -> Definir el codigo no excepcional (Si no ocurre un error)  \r\n",
    "Finally -> Definir el codigo que se ejecuta si hay o no un error  "
   ],
   "metadata": {}
  },
  {
   "cell_type": "markdown",
   "source": [],
   "metadata": {}
  }
 ],
 "metadata": {
  "language_info": {
   "name": "python",
   "version": "3.8.8",
   "mimetype": "text/x-python",
   "codemirror_mode": {
    "name": "ipython",
    "version": 3
   },
   "pygments_lexer": "ipython3",
   "nbconvert_exporter": "python",
   "file_extension": ".py"
  },
  "kernelspec": {
   "name": "python3",
   "display_name": "Python 3.8.8 64-bit ('base': conda)"
  },
  "interpreter": {
   "hash": "1386f00db9e6238f77d958fc7d28ba18915e180ae7aa41965f9b6571c5908d2d"
  }
 },
 "nbformat": 4,
 "nbformat_minor": 2
}