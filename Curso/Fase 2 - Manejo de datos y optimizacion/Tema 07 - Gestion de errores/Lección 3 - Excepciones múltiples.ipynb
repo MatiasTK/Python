{
 "cells": [
  {
   "cell_type": "code",
   "execution_count": 5,
   "source": [
    "#Como saber que tipo de error es!\r\n",
    "try:\r\n",
    "    n = input(\"Introduce un numero: \")\r\n",
    "    5/n\r\n",
    "except Exception as e:\r\n",
    "    print(type(e).__name__) # Muestra el nombre del tipo de error\r\n",
    "    print(e)\r\n",
    "    print(type(e))"
   ],
   "outputs": [
    {
     "output_type": "stream",
     "name": "stdout",
     "text": [
      "TypeError\n",
      "unsupported operand type(s) for /: 'int' and 'str'\n",
      "<class 'TypeError'>\n"
     ]
    }
   ],
   "metadata": {}
  },
  {
   "cell_type": "code",
   "execution_count": 6,
   "source": [
    "try:\r\n",
    "    n = input(\"Introduce un numero: \")\r\n",
    "    5/n\r\n",
    "except TypeError: # Esto lo va a imprimir si el tipo de error es TypeError -> Error de tipeo\r\n",
    "    print(\"No se puede dividir el numero por una cadena\")\r\n",
    "except Exception as e:\r\n",
    "    print(type(e).__name__) "
   ],
   "outputs": [
    {
     "output_type": "stream",
     "name": "stdout",
     "text": [
      "No se puede dividir el numero por una cadena\n"
     ]
    }
   ],
   "metadata": {}
  },
  {
   "cell_type": "code",
   "execution_count": 7,
   "source": [
    "#Arreglao\r\n",
    "try:\r\n",
    "    n = float(input(\"Introduce un numero: \"))\r\n",
    "    5/n\r\n",
    "except TypeError: \r\n",
    "    print(\"No se puede dividir el numero por una cadena\")\r\n",
    "except Exception as e:\r\n",
    "    print(type(e).__name__) "
   ],
   "outputs": [],
   "metadata": {}
  },
  {
   "cell_type": "code",
   "execution_count": 8,
   "source": [
    "#Si introduzco un string\r\n",
    "try:\r\n",
    "    n = float(input(\"Introduce un numero: \"))\r\n",
    "    5/n\r\n",
    "except TypeError: \r\n",
    "    print(\"No se puede dividir el numero por una cadena\")\r\n",
    "except Exception as e:\r\n",
    "    print(type(e).__name__) "
   ],
   "outputs": [
    {
     "output_type": "stream",
     "name": "stdout",
     "text": [
      "ValueError\n"
     ]
    }
   ],
   "metadata": {}
  },
  {
   "cell_type": "code",
   "execution_count": 9,
   "source": [
    "try:\r\n",
    "    n = float(input(\"Introduce un numero: \"))\r\n",
    "    5/n\r\n",
    "except TypeError: \r\n",
    "    print(\"No se puede dividir el numero por una cadena\")\r\n",
    "except ValueError:\r\n",
    "    print(\"Debes introducir una cadena que sea un numero\")\r\n",
    "except Exception as e:\r\n",
    "    print(type(e).__name__) "
   ],
   "outputs": [
    {
     "output_type": "stream",
     "name": "stdout",
     "text": [
      "Debes introducir una cadena que sea un numero\n"
     ]
    }
   ],
   "metadata": {}
  },
  {
   "cell_type": "code",
   "execution_count": 11,
   "source": [
    "#Si introduzco 0\r\n",
    "try:\r\n",
    "    n = float(input(\"Introduce un numero: \"))\r\n",
    "    5/n\r\n",
    "except TypeError: \r\n",
    "    print(\"No se puede dividir el numero por una cadena\")\r\n",
    "except ValueError:\r\n",
    "    print(\"Debes introducir una cadena que sea un numero\")\r\n",
    "except Exception as e:\r\n",
    "    print(type(e).__name__) \r\n"
   ],
   "outputs": [
    {
     "output_type": "stream",
     "name": "stdout",
     "text": [
      "ZeroDivisionError\n"
     ]
    }
   ],
   "metadata": {}
  },
  {
   "cell_type": "code",
   "execution_count": 14,
   "source": [
    "try:\r\n",
    "    n = float(input(\"Introduce un numero: \"))\r\n",
    "    5/n\r\n",
    "except TypeError: \r\n",
    "    print(\"No se puede dividir el numero por una cadena\")\r\n",
    "except ValueError:\r\n",
    "    print(\"Debes introducir una cadena que sea un numero\")\r\n",
    "except ZeroDivisionError:\r\n",
    "    print(\"No puedes dividir por 0\")\r\n",
    "except Exception as e: # Esto sirve una bocha para sacar el nombre del error\r\n",
    "    print(type(e).__name__) "
   ],
   "outputs": [
    {
     "output_type": "stream",
     "name": "stdout",
     "text": [
      "No puedes dividir por 0\n"
     ]
    }
   ],
   "metadata": {}
  }
 ],
 "metadata": {
  "language_info": {
   "name": "python",
   "version": "3.8.8",
   "mimetype": "text/x-python",
   "codemirror_mode": {
    "name": "ipython",
    "version": 3
   },
   "pygments_lexer": "ipython3",
   "nbconvert_exporter": "python",
   "file_extension": ".py"
  },
  "kernelspec": {
   "name": "python3",
   "display_name": "Python 3.8.8 64-bit ('base': conda)"
  },
  "interpreter": {
   "hash": "1386f00db9e6238f77d958fc7d28ba18915e180ae7aa41965f9b6571c5908d2d"
  }
 },
 "nbformat": 4,
 "nbformat_minor": 2
}