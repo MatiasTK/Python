{
 "cells": [
  {
   "cell_type": "code",
   "execution_count": 1,
   "source": [
    "class Galleta:\r\n",
    "    pass\r\n",
    "\r\n",
    "una_galleta = Galleta()"
   ],
   "outputs": [],
   "metadata": {}
  },
  {
   "cell_type": "code",
   "execution_count": 2,
   "source": [
    "#Definiendolos fuera de la funcion\r\n",
    "una_galleta.sabor = \"Salado\""
   ],
   "outputs": [],
   "metadata": {}
  },
  {
   "cell_type": "code",
   "execution_count": 3,
   "source": [
    "una_galleta.color = \"Marron\""
   ],
   "outputs": [],
   "metadata": {}
  },
  {
   "cell_type": "code",
   "execution_count": 5,
   "source": [
    "print(\"El sabor de esta galleta es:\",una_galleta.sabor)"
   ],
   "outputs": [
    {
     "output_type": "stream",
     "name": "stdout",
     "text": [
      "El sabor de esta galleta es: Salado\n"
     ]
    }
   ],
   "metadata": {}
  },
  {
   "cell_type": "code",
   "execution_count": 7,
   "source": [
    "#Definiendo dentro de la funcion\r\n",
    "class Galleta:\r\n",
    "    chocolate = False\r\n",
    "    \r\n",
    "g = Galleta()"
   ],
   "outputs": [],
   "metadata": {}
  },
  {
   "cell_type": "code",
   "execution_count": 8,
   "source": [
    "g.chocolate"
   ],
   "outputs": [
    {
     "output_type": "execute_result",
     "data": {
      "text/plain": [
       "False"
      ]
     },
     "metadata": {},
     "execution_count": 8
    }
   ],
   "metadata": {}
  },
  {
   "cell_type": "code",
   "execution_count": 9,
   "source": [
    "g.chocolate = True\r\n",
    "g.chocolate"
   ],
   "outputs": [
    {
     "output_type": "execute_result",
     "data": {
      "text/plain": [
       "True"
      ]
     },
     "metadata": {},
     "execution_count": 9
    }
   ],
   "metadata": {}
  },
  {
   "cell_type": "code",
   "execution_count": 17,
   "source": [
    "#Init y self -> Init metodo especial -> Se escriben con __Especial__\r\n",
    "class Galleta:\r\n",
    "    chocolate = False\r\n",
    "    def __init__(self): #Init es un metodo para crear un objeto, van a ejecutarse cada vez que se inicia un objeto, se le puede enviar argumentos \r\n",
    "                        #Self hace referencia al propio metodo -> ya que se pasa al propio objeto\r\n",
    "        print(\"Se acaba de crear una galleta.\")\r\n",
    "    def chocolatear(self):\r\n",
    "        self.chocolate = True\r\n",
    "    def tiene_chocolate(self):\r\n",
    "        if(self.chocolate):\r\n",
    "            print(\"Soy una galleta chocolateada :-D\")\r\n",
    "        else:\r\n",
    "            print(\"Soy una galleta sin chocolate :-(\")\r\n",
    "        \r\n",
    "                \r\n",
    "g = Galleta()\r\n",
    "g.tiene_chocolate()\r\n",
    "g.chocolatear()\r\n",
    "g.tiene_chocolate()"
   ],
   "outputs": [
    {
     "output_type": "stream",
     "name": "stdout",
     "text": [
      "Se acaba de crear una galleta.\n",
      "Soy una galleta sin chocolate :-(\n",
      "Soy una galleta chocolateada :-D\n"
     ]
    }
   ],
   "metadata": {}
  },
  {
   "cell_type": "code",
   "execution_count": 19,
   "source": [
    "class Galleta:\r\n",
    "    chocolate = False\r\n",
    "    def __init__(self,sabor,color): \r\n",
    "        self.sabor = sabor\r\n",
    "        self.color = color\r\n",
    "        print(\"Se acaba de crear una galleta de sabor {} y color {}\".format(sabor,color))\r\n",
    "    def chocolatear(self):\r\n",
    "        self.chocolate = True\r\n",
    "    def tiene_chocolate(self):\r\n",
    "        if(self.chocolate):\r\n",
    "            print(\"Soy una galleta chocolateada :-D\")\r\n",
    "        else:\r\n",
    "            print(\"Soy una galleta sin chocolate :-(\")\r\n",
    "        \r\n",
    "g = Galleta(\"salada\",\"marron\")"
   ],
   "outputs": [
    {
     "output_type": "stream",
     "name": "stdout",
     "text": [
      "Se acaba de crear una galleta de sabor salada y color marron\n"
     ]
    }
   ],
   "metadata": {}
  },
  {
   "cell_type": "code",
   "execution_count": 20,
   "source": [
    "g = Galleta()"
   ],
   "outputs": [
    {
     "output_type": "error",
     "ename": "TypeError",
     "evalue": "__init__() missing 2 required positional arguments: 'sabor' and 'color'",
     "traceback": [
      "\u001b[1;31m---------------------------------------------------------------------------\u001b[0m",
      "\u001b[1;31mTypeError\u001b[0m                                 Traceback (most recent call last)",
      "\u001b[1;32m<ipython-input-20-eb174ad5b988>\u001b[0m in \u001b[0;36m<module>\u001b[1;34m\u001b[0m\n\u001b[1;32m----> 1\u001b[1;33m \u001b[0mg\u001b[0m \u001b[1;33m=\u001b[0m \u001b[0mGalleta\u001b[0m\u001b[1;33m(\u001b[0m\u001b[1;33m)\u001b[0m\u001b[1;33m\u001b[0m\u001b[1;33m\u001b[0m\u001b[0m\n\u001b[0m",
      "\u001b[1;31mTypeError\u001b[0m: __init__() missing 2 required positional arguments: 'sabor' and 'color'"
     ]
    }
   ],
   "metadata": {}
  },
  {
   "cell_type": "code",
   "execution_count": 24,
   "source": [
    "#Como solucionar lo de arriba -> Estableciendo valor por defecto\r\n",
    "class Galleta:\r\n",
    "    chocolate = False\r\n",
    "    def __init__(self,sabor = None,color = None): \r\n",
    "        self.sabor = sabor\r\n",
    "        self.color = color\r\n",
    "        if sabor is not None and color is not None:\r\n",
    "            print(\"Se acaba de crear una galleta de sabor {} y color {}\".format(sabor,color))\r\n",
    "    def chocolatear(self):\r\n",
    "        self.chocolate = True\r\n",
    "    def tiene_chocolate(self):\r\n",
    "        if(self.chocolate):\r\n",
    "            print(\"Soy una galleta chocolateada :-D\")\r\n",
    "        else:\r\n",
    "            print(\"Soy una galleta sin chocolate :-(\")\r\n",
    "\r\n",
    "g = Galleta()"
   ],
   "outputs": [],
   "metadata": {}
  },
  {
   "cell_type": "code",
   "execution_count": 26,
   "source": [
    "g = Galleta(\"Dulce\",\"Marron\")"
   ],
   "outputs": [
    {
     "output_type": "stream",
     "name": "stdout",
     "text": [
      "Se acaba de crear una galleta de sabor Dulce y color Marron\n"
     ]
    }
   ],
   "metadata": {}
  }
 ],
 "metadata": {
  "language_info": {
   "name": "python",
   "version": "3.8.8",
   "mimetype": "text/x-python",
   "codemirror_mode": {
    "name": "ipython",
    "version": 3
   },
   "pygments_lexer": "ipython3",
   "nbconvert_exporter": "python",
   "file_extension": ".py"
  },
  "kernelspec": {
   "name": "python3",
   "display_name": "Python 3.8.8 64-bit ('base': conda)"
  },
  "interpreter": {
   "hash": "1386f00db9e6238f77d958fc7d28ba18915e180ae7aa41965f9b6571c5908d2d"
  }
 },
 "nbformat": 4,
 "nbformat_minor": 2
}