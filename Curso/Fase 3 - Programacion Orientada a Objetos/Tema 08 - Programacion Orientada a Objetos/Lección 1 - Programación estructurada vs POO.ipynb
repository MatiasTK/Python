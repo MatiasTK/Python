{
 "cells": [
  {
   "cell_type": "code",
   "execution_count": 2,
   "source": [
    "\"\"\" Ejemplo de implementación con Programación Estructurada \"\"\"\r\n",
    "\r\n",
    "clientes= [\r\n",
    "    {'Nombre': 'Hector',  'Apellidos':'Costa Guzman',      'dni':'11111111A'},\r\n",
    "    {'Nombre': 'Juan',    'Apellidos':'González Márquez',  'dni':'22222222B'} \r\n",
    "]"
   ],
   "outputs": [],
   "metadata": {
    "collapsed": false
   }
  },
  {
   "cell_type": "code",
   "execution_count": 3,
   "source": [
    "clientes"
   ],
   "outputs": [
    {
     "output_type": "execute_result",
     "data": {
      "text/plain": [
       "[{'Nombre': 'Hector', 'Apellidos': 'Costa Guzman', 'dni': '11111111A'},\n",
       " {'Nombre': 'Juan', 'Apellidos': 'González Márquez', 'dni': '22222222B'}]"
      ]
     },
     "metadata": {},
     "execution_count": 3
    }
   ],
   "metadata": {}
  },
  {
   "cell_type": "code",
   "execution_count": 5,
   "source": [
    "def mostrar_cliente(clientes, dni):\r\n",
    "    for c in clientes:\r\n",
    "        if (dni == c['dni']):\r\n",
    "            print('{} {}'.format(c['Nombre'],c['Apellidos']))\r\n",
    "            return\r\n",
    "        \r\n",
    "    print('Cliente no encontrado')"
   ],
   "outputs": [],
   "metadata": {
    "collapsed": true
   }
  },
  {
   "cell_type": "code",
   "execution_count": 6,
   "source": [
    "mostrar_cliente(clientes,\"11111111A\")"
   ],
   "outputs": [
    {
     "output_type": "stream",
     "name": "stdout",
     "text": [
      "Hector Costa Guzman\n"
     ]
    }
   ],
   "metadata": {
    "collapsed": false
   }
  },
  {
   "cell_type": "code",
   "execution_count": 7,
   "source": [
    "def borrar_cliente(clientes, dni):\r\n",
    "    for i,c in enumerate(clientes):\r\n",
    "        if (dni == c['dni']):\r\n",
    "            del( clientes[i] )\r\n",
    "            print(str(c),\"> BORRADO\")\r\n",
    "            return\r\n",
    "        \r\n",
    "    print('Cliente no encontrado')"
   ],
   "outputs": [],
   "metadata": {
    "collapsed": true
   }
  },
  {
   "cell_type": "code",
   "execution_count": 9,
   "source": [
    "borrar_cliente(clientes,\"11111111A\")"
   ],
   "outputs": [
    {
     "output_type": "stream",
     "name": "stdout",
     "text": [
      "{'Nombre': 'Hector', 'Apellidos': 'Costa Guzman', 'dni': '11111111A'} > BORRADO\n"
     ]
    }
   ],
   "metadata": {
    "collapsed": true
   }
  },
  {
   "cell_type": "code",
   "execution_count": 10,
   "source": [
    "borrar_cliente(clientes,\"gfsdgd5443\")"
   ],
   "outputs": [
    {
     "output_type": "stream",
     "name": "stdout",
     "text": [
      "Cliente no encontrado\n"
     ]
    }
   ],
   "metadata": {
    "collapsed": true
   }
  },
  {
   "cell_type": "code",
   "execution_count": 11,
   "source": [
    "clientes"
   ],
   "outputs": [
    {
     "output_type": "execute_result",
     "data": {
      "text/plain": [
       "[{'Nombre': 'Juan', 'Apellidos': 'González Márquez', 'dni': '22222222B'}]"
      ]
     },
     "metadata": {},
     "execution_count": 11
    }
   ],
   "metadata": {}
  },
  {
   "cell_type": "markdown",
   "source": [],
   "metadata": {}
  },
  {
   "cell_type": "markdown",
   "source": [
    "<br /><br /><br /><br /><br /><br /><br /><br /><br /><br /><br /><br /><br /><br /><br /><br /><br /><br />\n",
    "## Espacio en blanco a propósito\n",
    "<br /><br /><br /><br /><br /><br /><br /><br /><br /><br /><br /><br /><br /><br /><br /><br /><br /><br />"
   ],
   "metadata": {}
  },
  {
   "cell_type": "code",
   "execution_count": 13,
   "source": [
    "\"\"\" Ejemplo de implementación con Programación Orientada a Objetos \r\n",
    "    No hace falta entender el código, lo aprenderemos en esta unidad \"\"\"\r\n",
    "\r\n",
    "class Cliente:\r\n",
    "    \r\n",
    "    def __init__(self, dni, nombre, apellidos):\r\n",
    "        self.dni = dni\r\n",
    "        self.nombre = nombre\r\n",
    "        self.apellidos = apellidos\r\n",
    "        \r\n",
    "    def __str__(self):\r\n",
    "        return '{} {}'.format(self.nombre,self.apellidos)\r\n",
    "    \r\n",
    "\r\n",
    "class Empresa:\r\n",
    "    \r\n",
    "    def __init__(self, clientes=[]):\r\n",
    "        self.clientes = clientes\r\n",
    "        \r\n",
    "    def mostrar_cliente(self, dni=None):\r\n",
    "        for c in self.clientes:\r\n",
    "            if c.dni == dni:\r\n",
    "                print(c)\r\n",
    "                return\r\n",
    "        print(\"Cliente no encontrado\")\r\n",
    "    \r\n",
    "    def borrar_cliente(self, dni=None):\r\n",
    "        for i,c in enumerate(self.clientes):\r\n",
    "            if c.dni == dni:\r\n",
    "                del(self.clientes[i])\r\n",
    "                print(str(c),\"> BORRADO\")\r\n",
    "                return\r\n",
    "        print(\"Cliente no encontrado\")"
   ],
   "outputs": [],
   "metadata": {
    "collapsed": true
   }
  },
  {
   "cell_type": "code",
   "execution_count": 14,
   "source": [
    "hector = Cliente(nombre = \"Hector\",apellidos=\"Costa Guzman\",dni=\"11111111A\")"
   ],
   "outputs": [],
   "metadata": {
    "collapsed": true
   }
  },
  {
   "cell_type": "code",
   "execution_count": 15,
   "source": [
    "hector"
   ],
   "outputs": [
    {
     "output_type": "execute_result",
     "data": {
      "text/plain": [
       "<__main__.Cliente at 0x23a9c4ba3a0>"
      ]
     },
     "metadata": {},
     "execution_count": 15
    }
   ],
   "metadata": {}
  },
  {
   "cell_type": "code",
   "execution_count": 17,
   "source": [
    "juan = Cliente(\"22222222B\",\"Juan\",\"Gonzalez Marquez\")"
   ],
   "outputs": [],
   "metadata": {}
  },
  {
   "cell_type": "code",
   "execution_count": 18,
   "source": [
    "empresa = Empresa(clientes=[hector,juan])"
   ],
   "outputs": [],
   "metadata": {}
  },
  {
   "cell_type": "code",
   "execution_count": 19,
   "source": [
    "empresa.clientes"
   ],
   "outputs": [
    {
     "output_type": "execute_result",
     "data": {
      "text/plain": [
       "[<__main__.Cliente at 0x23a9c4ba3a0>, <__main__.Cliente at 0x23a9b8194f0>]"
      ]
     },
     "metadata": {},
     "execution_count": 19
    }
   ],
   "metadata": {}
  },
  {
   "cell_type": "code",
   "execution_count": 20,
   "source": [
    "empresa.mostrar_cliente(dni=\"11111111A\")"
   ],
   "outputs": [
    {
     "output_type": "stream",
     "name": "stdout",
     "text": [
      "Hector Costa Guzman\n"
     ]
    }
   ],
   "metadata": {}
  },
  {
   "cell_type": "code",
   "execution_count": 21,
   "source": [
    "empresa.borrar_cliente(dni=\"22222222B\")"
   ],
   "outputs": [
    {
     "output_type": "stream",
     "name": "stdout",
     "text": [
      "Juan Gonzalez Marquez > BORRADO\n"
     ]
    }
   ],
   "metadata": {}
  },
  {
   "cell_type": "code",
   "execution_count": 23,
   "source": [
    "empresa.clientes"
   ],
   "outputs": [
    {
     "output_type": "execute_result",
     "data": {
      "text/plain": [
       "[<__main__.Cliente at 0x23a9c4ba3a0>]"
      ]
     },
     "metadata": {},
     "execution_count": 23
    }
   ],
   "metadata": {}
  },
  {
   "cell_type": "code",
   "execution_count": null,
   "source": [],
   "outputs": [],
   "metadata": {}
  }
 ],
 "metadata": {
  "kernelspec": {
   "name": "python3",
   "display_name": "Python 3.8.8 64-bit ('base': conda)"
  },
  "language_info": {
   "codemirror_mode": {
    "name": "ipython",
    "version": 3
   },
   "file_extension": ".py",
   "mimetype": "text/x-python",
   "name": "python",
   "nbconvert_exporter": "python",
   "pygments_lexer": "ipython3",
   "version": "3.8.8"
  },
  "interpreter": {
   "hash": "1386f00db9e6238f77d958fc7d28ba18915e180ae7aa41965f9b6571c5908d2d"
  }
 },
 "nbformat": 4,
 "nbformat_minor": 2
}