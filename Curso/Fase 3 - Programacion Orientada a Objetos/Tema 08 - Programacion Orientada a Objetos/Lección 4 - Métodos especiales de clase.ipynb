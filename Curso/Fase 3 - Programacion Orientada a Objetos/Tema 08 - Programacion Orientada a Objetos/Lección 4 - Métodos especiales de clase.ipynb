{
 "cells": [
  {
   "cell_type": "code",
   "execution_count": 4,
   "source": [
    "#Los metodos especiales se escriben entre __\r\n",
    "class Pelicula:\r\n",
    "    # Constructor de clase\r\n",
    "    def __init__(self,titulo,duracion,lanzamiento):\r\n",
    "        self.titulo = titulo\r\n",
    "        self.duracion = duracion\r\n",
    "        self.lanzamiento = lanzamiento\r\n",
    "        print(\"Se ha creado la pelicula\",self.titulo)\r\n",
    "    \r\n",
    "    # Destructor de clase -> Se ejecuta aunque no se le haga una llamada antes de que se cierre el programa\r\n",
    "    def __del__(self):\r\n",
    "        print(\"Se esta borrando la pelicula\",self.titulo)\r\n",
    "    \r\n",
    "p = Pelicula(\"El Padrino\",175,1972)"
   ],
   "outputs": [
    {
     "output_type": "stream",
     "name": "stdout",
     "text": [
      "Se ha creado la pelicula El Padrino\n"
     ]
    }
   ],
   "metadata": {}
  },
  {
   "cell_type": "code",
   "execution_count": 3,
   "source": [
    "del(p)"
   ],
   "outputs": [
    {
     "output_type": "stream",
     "name": "stdout",
     "text": [
      "Se esta borrando la pelicula El Padrino\n"
     ]
    }
   ],
   "metadata": {}
  },
  {
   "cell_type": "code",
   "execution_count": 5,
   "source": [
    "str(10)"
   ],
   "outputs": [
    {
     "output_type": "execute_result",
     "data": {
      "text/plain": [
       "'10'"
      ]
     },
     "metadata": {},
     "execution_count": 5
    }
   ],
   "metadata": {}
  },
  {
   "cell_type": "code",
   "execution_count": 6,
   "source": [
    "str(p)"
   ],
   "outputs": [
    {
     "output_type": "execute_result",
     "data": {
      "text/plain": [
       "'<__main__.Pelicula object at 0x000001AB4C0C89D0>'"
      ]
     },
     "metadata": {},
     "execution_count": 6
    }
   ],
   "metadata": {}
  },
  {
   "cell_type": "code",
   "execution_count": 7,
   "source": [
    "class Pelicula:\r\n",
    "    # Constructor de clase\r\n",
    "    def __init__(self,titulo,duracion,lanzamiento):\r\n",
    "        self.titulo = titulo\r\n",
    "        self.duracion = duracion\r\n",
    "        self.lanzamiento = lanzamiento\r\n",
    "        print(\"Se ha creado la pelicula\",self.titulo)\r\n",
    "    \r\n",
    "    # Destructor de clase -> Se ejecuta aunque no se le haga una llamada antes de que se cierre el programa\r\n",
    "    def __del__(self):\r\n",
    "        print(\"Se esta borrando la pelicula\",self.titulo)\r\n",
    "    \r\n",
    "    #Redefino el metodo string -> Haces que esa funcion haga otra cosa que vos quieras \r\n",
    "    def __str__(self):\r\n",
    "        return \"{} lanzada en {} con una duracion de {} minutos\".format(self.titulo,self.lanzamiento,self.duracion)\r\n",
    "    \r\n",
    "p = Pelicula(\"El Padrino\",175,1972)"
   ],
   "outputs": [
    {
     "output_type": "stream",
     "name": "stdout",
     "text": [
      "Se ha creado la pelicula El Padrino\n",
      "Se esta borrando la pelicula El Padrino\n"
     ]
    }
   ],
   "metadata": {}
  },
  {
   "cell_type": "code",
   "execution_count": 8,
   "source": [
    "str(p)"
   ],
   "outputs": [
    {
     "output_type": "execute_result",
     "data": {
      "text/plain": [
       "'El Padrino lanzada en 1972 con una duracion de 175 minutos'"
      ]
     },
     "metadata": {},
     "execution_count": 8
    }
   ],
   "metadata": {}
  },
  {
   "cell_type": "code",
   "execution_count": 9,
   "source": [
    "len(p)"
   ],
   "outputs": [
    {
     "output_type": "error",
     "ename": "TypeError",
     "evalue": "object of type 'Pelicula' has no len()",
     "traceback": [
      "\u001b[1;31m---------------------------------------------------------------------------\u001b[0m",
      "\u001b[1;31mTypeError\u001b[0m                                 Traceback (most recent call last)",
      "\u001b[1;32m<ipython-input-9-3d9d6586c8d9>\u001b[0m in \u001b[0;36m<module>\u001b[1;34m\u001b[0m\n\u001b[1;32m----> 1\u001b[1;33m \u001b[0mlen\u001b[0m\u001b[1;33m(\u001b[0m\u001b[0mp\u001b[0m\u001b[1;33m)\u001b[0m\u001b[1;33m\u001b[0m\u001b[1;33m\u001b[0m\u001b[0m\n\u001b[0m",
      "\u001b[1;31mTypeError\u001b[0m: object of type 'Pelicula' has no len()"
     ]
    }
   ],
   "metadata": {}
  },
  {
   "cell_type": "code",
   "execution_count": 10,
   "source": [
    "class Pelicula:\r\n",
    "    # Constructor de clase\r\n",
    "    def __init__(self,titulo,duracion,lanzamiento):\r\n",
    "        self.titulo = titulo\r\n",
    "        self.duracion = duracion\r\n",
    "        self.lanzamiento = lanzamiento\r\n",
    "        print(\"Se ha creado la pelicula\",self.titulo)\r\n",
    "    \r\n",
    "    # Destructor de clase -> Se ejecuta aunque no se le haga una llamada antes de que se cierre el programa\r\n",
    "    def __del__(self):\r\n",
    "        print(\"Se esta borrando la pelicula\",self.titulo)\r\n",
    "    \r\n",
    "    #Redefino el metodo string -> Haces que esa funcion haga otra cosa que vos quieras \r\n",
    "    def __str__(self):\r\n",
    "        return \"{} lanzada en {} con una duracion de {} minutos\".format(self.titulo,self.lanzamiento,self.duracion)\r\n",
    "    \r\n",
    "    #Redefino length\r\n",
    "    def __len__(self):\r\n",
    "        return self.duracion\r\n",
    "    \r\n",
    "p = Pelicula(\"El Padrino\",175,1972)"
   ],
   "outputs": [
    {
     "output_type": "stream",
     "name": "stdout",
     "text": [
      "Se ha creado la pelicula El Padrino\n",
      "Se esta borrando la pelicula El Padrino\n"
     ]
    }
   ],
   "metadata": {}
  },
  {
   "cell_type": "code",
   "execution_count": 11,
   "source": [
    "len(p)"
   ],
   "outputs": [
    {
     "output_type": "execute_result",
     "data": {
      "text/plain": [
       "175"
      ]
     },
     "metadata": {},
     "execution_count": 11
    }
   ],
   "metadata": {}
  }
 ],
 "metadata": {
  "language_info": {
   "name": "python",
   "version": "3.8.8",
   "mimetype": "text/x-python",
   "codemirror_mode": {
    "name": "ipython",
    "version": 3
   },
   "pygments_lexer": "ipython3",
   "nbconvert_exporter": "python",
   "file_extension": ".py"
  },
  "kernelspec": {
   "name": "python3",
   "display_name": "Python 3.8.8 64-bit ('base': conda)"
  },
  "interpreter": {
   "hash": "1386f00db9e6238f77d958fc7d28ba18915e180ae7aa41965f9b6571c5908d2d"
  }
 },
 "nbformat": 4,
 "nbformat_minor": 2
}