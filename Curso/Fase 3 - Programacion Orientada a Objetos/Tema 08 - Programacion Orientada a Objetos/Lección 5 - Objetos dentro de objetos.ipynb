{
 "cells": [
  {
   "cell_type": "code",
   "execution_count": 2,
   "source": [
    "class Pelicula:\r\n",
    "    \r\n",
    "    # Constructor de clase\r\n",
    "    def __init__(self, titulo, duracion, lanzamiento):\r\n",
    "        self.titulo = titulo\r\n",
    "        self.duracion = duracion\r\n",
    "        self.lanzamiento = lanzamiento\r\n",
    "        print('Se ha creado la película:',self.titulo)\r\n",
    "        \r\n",
    "    def __str__(self):\r\n",
    "        return '{} ({})'.format(self.titulo, self.lanzamiento)"
   ],
   "outputs": [],
   "metadata": {
    "collapsed": true
   }
  },
  {
   "cell_type": "code",
   "execution_count": 4,
   "source": [
    "class Catalogo:\r\n",
    "    peliculas = []\r\n",
    "    \r\n",
    "    def __init__(self,peliculas=[]):\r\n",
    "        self.peliculas = peliculas\r\n",
    "    \r\n",
    "    def agregar(self,p):\r\n",
    "        self.peliculas.append(p)\r\n",
    "        \r\n",
    "    def mostrar(self):\r\n",
    "        for p in self.peliculas:\r\n",
    "            print(p)"
   ],
   "outputs": [],
   "metadata": {
    "collapsed": true
   }
  },
  {
   "cell_type": "code",
   "execution_count": 6,
   "source": [
    "p = Pelicula(\"El padrino\",175,1972)\r\n",
    "c = Catalogo([p])"
   ],
   "outputs": [
    {
     "output_type": "stream",
     "name": "stdout",
     "text": [
      "Se ha creado la película: El padrino\n"
     ]
    }
   ],
   "metadata": {}
  },
  {
   "cell_type": "code",
   "execution_count": 7,
   "source": [
    "c.mostrar()"
   ],
   "outputs": [
    {
     "output_type": "stream",
     "name": "stdout",
     "text": [
      "El padrino (1972)\n"
     ]
    }
   ],
   "metadata": {}
  },
  {
   "cell_type": "code",
   "execution_count": 9,
   "source": [
    "c.agregar(Pelicula(\"El padrino: Parte 2\",202,1974))"
   ],
   "outputs": [
    {
     "output_type": "stream",
     "name": "stdout",
     "text": [
      "Se ha creado la película: El padrino: Parte 2\n"
     ]
    }
   ],
   "metadata": {}
  },
  {
   "cell_type": "code",
   "execution_count": 10,
   "source": [
    "c.mostrar()"
   ],
   "outputs": [
    {
     "output_type": "stream",
     "name": "stdout",
     "text": [
      "El padrino (1972)\n",
      "El padrino: Parte 2 (1974)\n"
     ]
    }
   ],
   "metadata": {}
  }
 ],
 "metadata": {
  "kernelspec": {
   "name": "python3",
   "display_name": "Python 3.8.8 64-bit ('base': conda)"
  },
  "language_info": {
   "codemirror_mode": {
    "name": "ipython",
    "version": 3
   },
   "file_extension": ".py",
   "mimetype": "text/x-python",
   "name": "python",
   "nbconvert_exporter": "python",
   "pygments_lexer": "ipython3",
   "version": "3.8.8"
  },
  "interpreter": {
   "hash": "1386f00db9e6238f77d958fc7d28ba18915e180ae7aa41965f9b6571c5908d2d"
  }
 },
 "nbformat": 4,
 "nbformat_minor": 2
}