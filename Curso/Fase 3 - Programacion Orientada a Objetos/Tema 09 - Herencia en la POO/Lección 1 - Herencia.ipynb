{
 "cells": [
  {
   "cell_type": "code",
   "execution_count": 1,
   "source": [
    "#Herencia -> No se usa frecuentemente\r\n",
    "class Producto:\r\n",
    "    def __init__(self,referencia,tipo,nombre,pv,descripcion,productor = None,distribuidor = None, isbn = None, autor = None):\r\n",
    "        self.referencia = referencia\r\n",
    "        self.tipo = tipo\r\n",
    "        self.nombre = nombre\r\n",
    "        self.pv = pv\r\n",
    "        self.descripcion = descripcion\r\n",
    "        self.productor = productor\r\n",
    "        self.distribuidor = distribuidor\r\n",
    "        self.isbn = isbn\r\n",
    "        self.autor = autor\r\n",
    "        \r\n",
    "adorno = Producto(\"000A\",\"ADORNO\",\"Vaso adornado\",15,\"Vaso de porcelana con dibujos\")"
   ],
   "outputs": [],
   "metadata": {}
  },
  {
   "cell_type": "code",
   "execution_count": 2,
   "source": [
    "adorno"
   ],
   "outputs": [
    {
     "output_type": "execute_result",
     "data": {
      "text/plain": [
       "<__main__.Producto at 0x13951621610>"
      ]
     },
     "metadata": {},
     "execution_count": 2
    }
   ],
   "metadata": {}
  },
  {
   "cell_type": "code",
   "execution_count": 3,
   "source": [
    "adorno.tipo"
   ],
   "outputs": [
    {
     "output_type": "execute_result",
     "data": {
      "text/plain": [
       "'ADORNO'"
      ]
     },
     "metadata": {},
     "execution_count": 3
    }
   ],
   "metadata": {}
  },
  {
   "cell_type": "code",
   "execution_count": 6,
   "source": [
    "#Mejor manera de hacerlo -> con herencia\r\n",
    "class Producto:\r\n",
    "    def __init__(self,referencia,nombre,pv,descripcion):\r\n",
    "        self.referencia = referencia\r\n",
    "        self.nombre = nombre\r\n",
    "        self.pv = pv\r\n",
    "        self.descripcion = descripcion\r\n",
    "    def __str__(self):\r\n",
    "        return \"Referencia:\\t{}\\nNombre:\\t\\t{}\\nPV:\\t\\t{}\\nDescripcion:\\t{}\\n\".format(self.referencia,self.nombre,self.pv,self.descripcion)\r\n",
    "\r\n",
    "class Adorno(Producto):\r\n",
    "    pass\r\n",
    "\r\n",
    "a = Adorno(2034,\"Vaso adornado\",15,\"Vaso de porcelana adornado con arboles\")\r\n",
    "        "
   ],
   "outputs": [],
   "metadata": {}
  },
  {
   "cell_type": "code",
   "execution_count": 7,
   "source": [
    "print(a)"
   ],
   "outputs": [
    {
     "output_type": "stream",
     "name": "stdout",
     "text": [
      "Referencia:\t2034\n",
      "Nombre:\t\tVaso adornado\n",
      "PV:\t\t15\n",
      "Descripcion:\tVaso de porcelana adornado con arboles\n",
      "\n"
     ]
    }
   ],
   "metadata": {}
  },
  {
   "cell_type": "code",
   "execution_count": 11,
   "source": [
    "class Alimento(Producto):\r\n",
    "    productor = \"\"\r\n",
    "    distribuidor = \"\"\r\n",
    "    def __str__(self):\r\n",
    "        return \"Referencia:\\t{}\\nNombre:\\t\\t{}\\nPV:\\t\\t{}\\nDescripcion:\\t{}\\nProductor:\\t{}\\nDistribuidor:\\t{}\\n\".format(self.referencia,self.nombre,self.pv,self.descripcion,self.productor,self.distribuidor)\r\n",
    "    \r\n",
    "al = Alimento(2035,\"Botella de aceite de oliva extra\",5,\"250 ML\")\r\n",
    "al.productor = \"La aceitera\"\r\n",
    "al.distribuidor = \"Distribuciones SA\""
   ],
   "outputs": [],
   "metadata": {}
  },
  {
   "cell_type": "code",
   "execution_count": 12,
   "source": [
    "print(al)"
   ],
   "outputs": [
    {
     "output_type": "stream",
     "name": "stdout",
     "text": [
      "Referencia:\t2035\n",
      "Nombre:\t\tBotella de aceite de oliva extra\n",
      "PV:\t\t5\n",
      "Descripcion:\t250 ML\n",
      "Productor:\tLa aceitera\n",
      "Distribuidor:\tDistribuciones SA\n",
      "\n"
     ]
    }
   ],
   "metadata": {}
  },
  {
   "cell_type": "code",
   "execution_count": 15,
   "source": [
    "class Libro(Producto):\r\n",
    "    isbn = \"\"\r\n",
    "    autor = \"\"\r\n",
    "    def __str__(self):\r\n",
    "        return \"Referencia:\\t{}\\nNombre:\\t\\t{}\\nPV:\\t\\t{}\\nDescripcion:\\t{}\\nIsbn:\\t\\t{}\\nAutor:\\t\\t{}\\n\".format(self.referencia,self.nombre,self.pv,self.descripcion,self.isbn,self.autor)\r\n",
    "\r\n",
    "li = Libro(2036,\"Cocina mediterranea\",9,\"Recetas sanas y buenas\")\r\n",
    "li.isbn = \"0-123456-78-9\"\r\n",
    "li.autor =  \"Doña juana\""
   ],
   "outputs": [],
   "metadata": {}
  },
  {
   "cell_type": "code",
   "execution_count": 16,
   "source": [
    "print(li)"
   ],
   "outputs": [
    {
     "output_type": "stream",
     "name": "stdout",
     "text": [
      "Referencia:\t2036\n",
      "Nombre:\t\tCocina mediterranea\n",
      "PV:\t\t9\n",
      "Descripcion:\tRecetas sanas y buenas\n",
      "Isbn:\t\t0-123456-78-9\n",
      "Autor:\t\tDoña juana\n",
      "\n"
     ]
    }
   ],
   "metadata": {}
  }
 ],
 "metadata": {
  "language_info": {
   "name": "python",
   "version": "3.8.8",
   "mimetype": "text/x-python",
   "codemirror_mode": {
    "name": "ipython",
    "version": 3
   },
   "pygments_lexer": "ipython3",
   "nbconvert_exporter": "python",
   "file_extension": ".py"
  },
  "kernelspec": {
   "name": "python3",
   "display_name": "Python 3.8.8 64-bit ('base': conda)"
  },
  "interpreter": {
   "hash": "1386f00db9e6238f77d958fc7d28ba18915e180ae7aa41965f9b6571c5908d2d"
  }
 },
 "nbformat": 4,
 "nbformat_minor": 2
}