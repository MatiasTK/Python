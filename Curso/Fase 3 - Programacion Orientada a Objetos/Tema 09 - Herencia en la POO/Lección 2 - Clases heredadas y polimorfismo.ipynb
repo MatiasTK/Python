{
 "cells": [
  {
   "cell_type": "code",
   "execution_count": 18,
   "source": [
    "class Producto:\r\n",
    "    def __init__(self,referencia,nombre,pvp,descripcion):\r\n",
    "        self.referencia = referencia\r\n",
    "        self.nombre = nombre\r\n",
    "        self.pvp = pvp\r\n",
    "        self.descripcion = descripcion\r\n",
    "        \r\n",
    "    def __str__(self):\r\n",
    "        return \"\"\"\\\r\n",
    "REFERENCIA\\t{}\r\n",
    "NOMBRE\\t\\t{}\r\n",
    "PVP\\t\\t{}\r\n",
    "DESCRIPCIÓN\\t{}\"\"\".format(self.referencia,self.nombre,self.pvp,self.descripcion)\r\n",
    "    \r\n",
    "\r\n",
    "class Adorno(Producto):\r\n",
    "    pass\r\n",
    "\r\n",
    "\r\n",
    "class Alimento(Producto):\r\n",
    "    productor = \"\"\r\n",
    "    distribuidor = \"\"\r\n",
    "    \r\n",
    "    def __str__(self):\r\n",
    "        return \"\"\"\\\r\n",
    "REFERENCIA\\t{}\r\n",
    "NOMBRE\\t\\t{}\r\n",
    "PVP\\t\\t{}\r\n",
    "DESCRIPCIÓN\\t{}\r\n",
    "PRODUCTOR\\t{}\r\n",
    "DISTRIBUIDOR\\t{}\"\"\".format(self.referencia,self.nombre,self.pvp,self.descripcion,self.productor,self.distribuidor)\r\n",
    "\r\n",
    "\r\n",
    "class Libro(Producto):\r\n",
    "    isbn = \"\"\r\n",
    "    autor = \"\"\r\n",
    "    \r\n",
    "    def __str__(self):\r\n",
    "        return \"\"\"\\\r\n",
    "REFERENCIA\\t{}\r\n",
    "NOMBRE\\t\\t{}\r\n",
    "PVP\\t\\t{}\r\n",
    "DESCRIPCIÓN\\t{}\r\n",
    "ISBN\\t\\t{}\r\n",
    "AUTOR\\t\\t{}\"\"\".format(self.referencia,self.nombre,self.pvp,self.descripcion,self.isbn,self.autor)"
   ],
   "outputs": [],
   "metadata": {
    "collapsed": true
   }
  },
  {
   "cell_type": "code",
   "execution_count": 19,
   "source": [
    "ad = Adorno(2034,\"Vaso adornado\",15,\"Vaso de porcelana adornado con árboles\")\r\n",
    "\r\n",
    "al = Alimento(2035,\"Botella de Aceite de Oliva Extra\",5,\"250 ML\")\r\n",
    "al.productor = \"La Aceitera\"\r\n",
    "al.distribuidor = \"Distribuciones SA\"\r\n",
    "\r\n",
    "li = Libro(2036,\"Cocina Mediterránea\",9,\"Recetas sanas y buenas\")\r\n",
    "li.isbn = \"0-123456-78-9\"\r\n",
    "li.autor = \"Doña Juana\""
   ],
   "outputs": [],
   "metadata": {
    "collapsed": true
   }
  },
  {
   "cell_type": "code",
   "execution_count": 6,
   "source": [
    "productos = [ad,al]"
   ],
   "outputs": [],
   "metadata": {}
  },
  {
   "cell_type": "code",
   "execution_count": 7,
   "source": [
    "productos.append(li)"
   ],
   "outputs": [],
   "metadata": {}
  },
  {
   "cell_type": "code",
   "execution_count": 8,
   "source": [
    "productos"
   ],
   "outputs": [
    {
     "output_type": "execute_result",
     "data": {
      "text/plain": [
       "[<__main__.Adorno at 0x1512df88fa0>,\n",
       " <__main__.Alimento at 0x1512df88700>,\n",
       " <__main__.Libro at 0x1512df88460>]"
      ]
     },
     "metadata": {},
     "execution_count": 8
    }
   ],
   "metadata": {}
  },
  {
   "cell_type": "code",
   "execution_count": 12,
   "source": [
    "for p in productos:\r\n",
    "    print(p,\"\\n\")"
   ],
   "outputs": [
    {
     "output_type": "stream",
     "name": "stdout",
     "text": [
      "REFERENCIA\t2034\n",
      "NOMBRE\t\tVaso adornado\n",
      "PVP\t\t15\n",
      "DESCRIPCIÓN\tVaso de porcelana adornado con árboles \n",
      "\n",
      "REFERENCIA\t2035\n",
      "NOMBRE\t\tBotella de Aceite de Oliva Extra\n",
      "PVP\t\t5\n",
      "DESCRIPCIÓN\t250 ML\n",
      "PRODUCTOR\tLa Aceitera\n",
      "DISTRIBUIDOR\tDistribuciones SA \n",
      "\n",
      "REFERENCIA\t2036\n",
      "NOMBRE\t\tCocina Mediterránea\n",
      "PVP\t\t9\n",
      "DESCRIPCIÓN\tRecetas sanas y buenas\n",
      "ISBN\t\t0-123456-78-9\n",
      "AUTOR\t\tDoña Juana \n",
      "\n"
     ]
    }
   ],
   "metadata": {}
  },
  {
   "cell_type": "code",
   "execution_count": 13,
   "source": [
    "for p in productos:\r\n",
    "    print(p.autor)"
   ],
   "outputs": [
    {
     "output_type": "error",
     "ename": "AttributeError",
     "evalue": "'Adorno' object has no attribute 'autor'",
     "traceback": [
      "\u001b[1;31m---------------------------------------------------------------------------\u001b[0m",
      "\u001b[1;31mAttributeError\u001b[0m                            Traceback (most recent call last)",
      "\u001b[1;32m<ipython-input-13-e3eb22ed4ac9>\u001b[0m in \u001b[0;36m<module>\u001b[1;34m\u001b[0m\n\u001b[0;32m      1\u001b[0m \u001b[1;32mfor\u001b[0m \u001b[0mp\u001b[0m \u001b[1;32min\u001b[0m \u001b[0mproductos\u001b[0m\u001b[1;33m:\u001b[0m\u001b[1;33m\u001b[0m\u001b[1;33m\u001b[0m\u001b[0m\n\u001b[1;32m----> 2\u001b[1;33m     \u001b[0mprint\u001b[0m\u001b[1;33m(\u001b[0m\u001b[0mp\u001b[0m\u001b[1;33m.\u001b[0m\u001b[0mautor\u001b[0m\u001b[1;33m)\u001b[0m\u001b[1;33m\u001b[0m\u001b[1;33m\u001b[0m\u001b[0m\n\u001b[0m",
      "\u001b[1;31mAttributeError\u001b[0m: 'Adorno' object has no attribute 'autor'"
     ]
    }
   ],
   "metadata": {}
  },
  {
   "cell_type": "code",
   "execution_count": 14,
   "source": [
    "for p in productos:\r\n",
    "    if(isinstance(p,Adorno)): #Isistance comprueba si un objeto es del tipo Adorno\r\n",
    "        print(p.referencia,p.nombre)\r\n",
    "    elif(isinstance(p,Alimento)):\r\n",
    "        print(p.referencia,p.nombre,p.productor)\r\n",
    "    elif(isinstance(p,Libro)):\r\n",
    "        print(p.referencia,p.nombre,p.isbn)"
   ],
   "outputs": [
    {
     "output_type": "stream",
     "name": "stdout",
     "text": [
      "2034 Vaso adornado\n",
      "2035 Botella de Aceite de Oliva Extra La Aceitera\n",
      "2036 Cocina Mediterránea 0-123456-78-9\n"
     ]
    }
   ],
   "metadata": {}
  },
  {
   "cell_type": "code",
   "execution_count": 20,
   "source": [
    "def rebaja_producto(p,rebaja): #Devuelve un producto con una rebaja en procentaje de su precio\r\n",
    "    p.pvp = p.pvp - (p.pvp/100 * rebaja)\r\n",
    "    return p\r\n",
    "\r\n",
    "al_rebajado = rebaja_producto(al,10)  \r\n",
    "print(al_rebajado)  "
   ],
   "outputs": [
    {
     "output_type": "stream",
     "name": "stdout",
     "text": [
      "REFERENCIA\t2035\n",
      "NOMBRE\t\tBotella de Aceite de Oliva Extra\n",
      "PVP\t\t4.5\n",
      "DESCRIPCIÓN\t250 ML\n",
      "PRODUCTOR\tLa Aceitera\n",
      "DISTRIBUIDOR\tDistribuciones SA\n"
     ]
    }
   ],
   "metadata": {}
  },
  {
   "cell_type": "code",
   "execution_count": 22,
   "source": [
    "print(al) # Como los objetos se pasan por referencia tambien se modifico el original"
   ],
   "outputs": [
    {
     "output_type": "stream",
     "name": "stdout",
     "text": [
      "REFERENCIA\t2035\n",
      "NOMBRE\t\tBotella de Aceite de Oliva Extra\n",
      "PVP\t\t4.5\n",
      "DESCRIPCIÓN\t250 ML\n",
      "PRODUCTOR\tLa Aceitera\n",
      "DISTRIBUIDOR\tDistribuciones SA\n"
     ]
    }
   ],
   "metadata": {}
  },
  {
   "cell_type": "code",
   "execution_count": 23,
   "source": [
    "copia_al = al"
   ],
   "outputs": [],
   "metadata": {}
  },
  {
   "cell_type": "code",
   "execution_count": 24,
   "source": [
    "copia_al.referencia = 2038"
   ],
   "outputs": [],
   "metadata": {}
  },
  {
   "cell_type": "code",
   "execution_count": 25,
   "source": [
    "print(copia_al)"
   ],
   "outputs": [
    {
     "output_type": "stream",
     "name": "stdout",
     "text": [
      "REFERENCIA\t2038\n",
      "NOMBRE\t\tBotella de Aceite de Oliva Extra\n",
      "PVP\t\t4.5\n",
      "DESCRIPCIÓN\t250 ML\n",
      "PRODUCTOR\tLa Aceitera\n",
      "DISTRIBUIDOR\tDistribuciones SA\n"
     ]
    }
   ],
   "metadata": {}
  },
  {
   "cell_type": "code",
   "execution_count": 26,
   "source": [
    "print(al)\r\n",
    "#NO SE PUEDEN HACER COPIAS EN OBJETOS Y CLASES!!! SI O SI SE MODIFICA EL OBJETO ORIGINAL"
   ],
   "outputs": [
    {
     "output_type": "stream",
     "name": "stdout",
     "text": [
      "REFERENCIA\t2038\n",
      "NOMBRE\t\tBotella de Aceite de Oliva Extra\n",
      "PVP\t\t4.5\n",
      "DESCRIPCIÓN\t250 ML\n",
      "PRODUCTOR\tLa Aceitera\n",
      "DISTRIBUIDOR\tDistribuciones SA\n"
     ]
    }
   ],
   "metadata": {}
  },
  {
   "cell_type": "code",
   "execution_count": 27,
   "source": [
    "l = [1,2,3]"
   ],
   "outputs": [],
   "metadata": {}
  },
  {
   "cell_type": "code",
   "execution_count": 29,
   "source": [
    "l2 = l"
   ],
   "outputs": [],
   "metadata": {}
  },
  {
   "cell_type": "code",
   "execution_count": 30,
   "source": [
    "l2.append(4)"
   ],
   "outputs": [],
   "metadata": {}
  },
  {
   "cell_type": "code",
   "execution_count": 31,
   "source": [
    "print(l,\"\\n\",l2)\r\n",
    "#Ya que para copiar una lista se tiene que escribir l2 = l[:]"
   ],
   "outputs": [
    {
     "output_type": "stream",
     "name": "stdout",
     "text": [
      "[1, 2, 3, 4] \n",
      " [1, 2, 3, 4]\n"
     ]
    }
   ],
   "metadata": {}
  },
  {
   "cell_type": "code",
   "execution_count": 34,
   "source": [
    "#Copiar una clase!\r\n",
    "import copy\r\n",
    "copiar_ad = copy.copy(ad)"
   ],
   "outputs": [],
   "metadata": {}
  },
  {
   "cell_type": "code",
   "execution_count": 36,
   "source": [
    "print(copiar_ad)"
   ],
   "outputs": [
    {
     "output_type": "stream",
     "name": "stdout",
     "text": [
      "REFERENCIA\t2034\n",
      "NOMBRE\t\tVaso adornado\n",
      "PVP\t\t15\n",
      "DESCRIPCIÓN\tVaso de porcelana adornado con árboles\n"
     ]
    }
   ],
   "metadata": {}
  },
  {
   "cell_type": "code",
   "execution_count": 37,
   "source": [
    "copiar_ad.pvp = 25"
   ],
   "outputs": [],
   "metadata": {}
  },
  {
   "cell_type": "code",
   "execution_count": 39,
   "source": [
    "print(copiar_ad)\r\n",
    "print(\"\\n\")\r\n",
    "print(ad)"
   ],
   "outputs": [
    {
     "output_type": "stream",
     "name": "stdout",
     "text": [
      "REFERENCIA\t2034\n",
      "NOMBRE\t\tVaso adornado\n",
      "PVP\t\t25\n",
      "DESCRIPCIÓN\tVaso de porcelana adornado con árboles\n",
      "\n",
      "\n",
      "REFERENCIA\t2034\n",
      "NOMBRE\t\tVaso adornado\n",
      "PVP\t\t15\n",
      "DESCRIPCIÓN\tVaso de porcelana adornado con árboles\n"
     ]
    }
   ],
   "metadata": {}
  }
 ],
 "metadata": {
  "kernelspec": {
   "name": "python3",
   "display_name": "Python 3.8.8 64-bit ('base': conda)"
  },
  "language_info": {
   "codemirror_mode": {
    "name": "ipython",
    "version": 3
   },
   "file_extension": ".py",
   "mimetype": "text/x-python",
   "name": "python",
   "nbconvert_exporter": "python",
   "pygments_lexer": "ipython3",
   "version": "3.8.8"
  },
  "interpreter": {
   "hash": "1386f00db9e6238f77d958fc7d28ba18915e180ae7aa41965f9b6571c5908d2d"
  }
 },
 "nbformat": 4,
 "nbformat_minor": 2
}