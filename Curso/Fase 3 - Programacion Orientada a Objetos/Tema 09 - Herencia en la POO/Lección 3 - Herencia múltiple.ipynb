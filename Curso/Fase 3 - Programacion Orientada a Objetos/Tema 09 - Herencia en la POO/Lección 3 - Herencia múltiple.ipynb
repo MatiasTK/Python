{
 "cells": [
  {
   "cell_type": "code",
   "execution_count": 3,
   "source": [
    "#Solo existe en python!\r\n",
    "class A:\r\n",
    "    def __init__(self):\r\n",
    "        print(\"Soy de clase A\")\r\n",
    "    def a(self):\r\n",
    "        print(\"Este metodo lo heredo de A\")\r\n",
    "\r\n",
    "class B:\r\n",
    "    def __init__(self):\r\n",
    "        print(\"Soy de clase B\")\r\n",
    "    def b(self):\r\n",
    "        print(\"Este metodo lo heredo de B\")\r\n",
    "\r\n",
    "class C(A,B):\r\n",
    "    def c(self):\r\n",
    "        print(\"Este metodo es de C\")\r\n",
    "\r\n",
    "c = C() # Prioriza la A ya que esta primero en CLASS C"
   ],
   "outputs": [
    {
     "output_type": "stream",
     "name": "stdout",
     "text": [
      "Soy de clase A\n"
     ]
    }
   ],
   "metadata": {
    "collapsed": true
   }
  },
  {
   "cell_type": "code",
   "execution_count": 4,
   "source": [
    "c.a()"
   ],
   "outputs": [
    {
     "output_type": "stream",
     "name": "stdout",
     "text": [
      "Este metodo lo heredo de A\n"
     ]
    }
   ],
   "metadata": {}
  },
  {
   "cell_type": "code",
   "execution_count": 5,
   "source": [
    "c.b()"
   ],
   "outputs": [
    {
     "output_type": "stream",
     "name": "stdout",
     "text": [
      "Este metodo lo heredo de B\n"
     ]
    }
   ],
   "metadata": {}
  },
  {
   "cell_type": "code",
   "execution_count": 6,
   "source": [
    "c.c()"
   ],
   "outputs": [
    {
     "output_type": "stream",
     "name": "stdout",
     "text": [
      "Este metodo es de C\n"
     ]
    }
   ],
   "metadata": {}
  }
 ],
 "metadata": {
  "kernelspec": {
   "name": "python3",
   "display_name": "Python 3.8.8 64-bit ('base': conda)"
  },
  "language_info": {
   "codemirror_mode": {
    "name": "ipython",
    "version": 3
   },
   "file_extension": ".py",
   "mimetype": "text/x-python",
   "name": "python",
   "nbconvert_exporter": "python",
   "pygments_lexer": "ipython3",
   "version": "3.8.8"
  },
  "interpreter": {
   "hash": "1386f00db9e6238f77d958fc7d28ba18915e180ae7aa41965f9b6571c5908d2d"
  }
 },
 "nbformat": 4,
 "nbformat_minor": 2
}