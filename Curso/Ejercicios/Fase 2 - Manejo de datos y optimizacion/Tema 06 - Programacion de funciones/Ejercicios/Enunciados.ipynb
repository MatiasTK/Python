{
 "cells": [
  {
   "cell_type": "markdown",
   "source": [
    "# Tema 06: Programación de funciones (Enunciados)\n",
    "*Nota: Estos ejercicios son optativos para hacer al final de la unidad y están pensados para apoyar tu aprendizaje*."
   ],
   "metadata": {}
  },
  {
   "cell_type": "markdown",
   "source": [
    "**1) Realiza una función llamada area_rectangulo() que devuelva el área del rectangulo a partir de una base y una altura. Calcula el área de un rectángulo de 15 de base y 10 de altura.**\n",
    "\n",
    "*Nota: El área de un rectángulo se obtiene al multiplicar la base por la altura.*"
   ],
   "metadata": {}
  },
  {
   "cell_type": "code",
   "execution_count": 1,
   "source": [
    "# Completa el ejercicio aquí\r\n",
    "def area_rectangulo(base,altura):\r\n",
    "    return base * altura\r\n",
    "\r\n",
    "base = int(input(\"Ingresa una base\"))\r\n",
    "altura = int(input(\"Ingresa una altura\"))\r\n",
    "\r\n",
    "print(area_rectangulo(base,altura))"
   ],
   "outputs": [
    {
     "output_type": "stream",
     "name": "stdout",
     "text": [
      "150\n"
     ]
    }
   ],
   "metadata": {
    "collapsed": false
   }
  },
  {
   "cell_type": "markdown",
   "source": [
    "**2) Realiza una función llamada area_circulo() que devuelva el área de un círculo a partir de un radio. Calcula el área de un círculo de 5 de radio: **\n",
    "\n",
    "Nota: El área de un círculo se obtiene al elevar el radio a dos y multiplicando el resultado por el número pi. Puedes utilizar el valor 3.14159 como pi o importarlo del módulo math:\n",
    "```python\n",
    "import math\n",
    "print(math.pi)\n",
    "> 3.1415...\n",
    "```"
   ],
   "metadata": {}
  },
  {
   "cell_type": "code",
   "execution_count": 3,
   "source": [
    "# Completa el ejercicio aquí\r\n",
    "import math\r\n",
    "\r\n",
    "def area_circulo(radio):\r\n",
    "    resultado = (radio * 2)  * math.pi\r\n",
    "    return resultado\r\n",
    "\r\n",
    "radio = int(input(\"Ingresa el radio del circulo: \"))\r\n",
    "\r\n",
    "print((\"{:.2f}\").format(area_circulo(radio)))\r\n"
   ],
   "outputs": [
    {
     "output_type": "stream",
     "name": "stdout",
     "text": [
      "31.42\n"
     ]
    }
   ],
   "metadata": {
    "collapsed": false
   }
  },
  {
   "cell_type": "markdown",
   "source": [
    "**3) Realiza una función llamada relacion() que a partir de dos números cumpla lo siguiente**:\n",
    "\n",
    "* Si el primer número es mayor que el segundo, debe devolver 1.\n",
    "* Si el primer número es menor que el segundo, debe devolver -1.\n",
    "* Si ambos números son iguales, debe devolver un 0.\n",
    "\n",
    "** Comprueba la relación entre los números: '5 y 10', '10 y 5' y '5 y 5'**"
   ],
   "metadata": {}
  },
  {
   "cell_type": "code",
   "execution_count": 6,
   "source": [
    "# Completa el ejercicio aquí\r\n",
    "def relacion(num1,num2):\r\n",
    "    if num1 > num2:\r\n",
    "        return 1\r\n",
    "    elif num1 < num2:\r\n",
    "        return -1\r\n",
    "    else:\r\n",
    "        return 0\r\n",
    "\r\n",
    "num1 = int(input(\"Ingresa el primer numero: \"))\r\n",
    "num2 = int(input(\"Ingresa el segundo numero: \"))\r\n",
    "\r\n",
    "print(relacion(num1,num2))"
   ],
   "outputs": [
    {
     "output_type": "stream",
     "name": "stdout",
     "text": [
      "0\n"
     ]
    }
   ],
   "metadata": {
    "collapsed": false
   }
  },
  {
   "cell_type": "markdown",
   "source": [
    "**4) Realiza una función llamada intermedio() que a partir de dos números, devuelva su punto intermedio:**\n",
    "\n",
    "*Nota: El número intermedio de dos números corresponde a la suma de los dos números dividida entre 2*\n",
    "\n",
    "** Comprueba el punto intermedio entre -12 y 24**"
   ],
   "metadata": {}
  },
  {
   "cell_type": "code",
   "execution_count": 7,
   "source": [
    "# Completa el ejercicio aquí\r\n",
    "def intermedio(num1,num2):\r\n",
    "    return (num1 + num2) / 2\r\n",
    "\r\n",
    "num1 = int(input(\"Ingresa el primer numero: \"))\r\n",
    "num2 = int(input(\"Ingresa el segundo numero: \"))\r\n",
    "\r\n",
    "print(intermedio(num1,num2))"
   ],
   "outputs": [
    {
     "output_type": "stream",
     "name": "stdout",
     "text": [
      "6.0\n"
     ]
    }
   ],
   "metadata": {
    "collapsed": false
   }
  },
  {
   "cell_type": "markdown",
   "source": [
    "**5) Realiza una función llamada recortar() que reciba tres parámetros. El primero es el número a recortar, el segundo es el límite inferior y el tercero el límite superior. La función tendrá que cumplir lo siguiente:**\n",
    "\n",
    "* Devolver el límite inferior si el número es menor que éste\n",
    "* Devolver el límite superior si el número es mayor que éste.\n",
    "* Devolver el número sin cambios si no se supera ningún límite.\n",
    "\n",
    "** Comprueba el resultado de recortar 15 entre los límites 0 y 10**"
   ],
   "metadata": {}
  },
  {
   "cell_type": "code",
   "execution_count": 9,
   "source": [
    "# Completa el ejercicio aquí\r\n",
    "def recortar(recorte,linf,lsup):\r\n",
    "    if recorte < linf:\r\n",
    "        return linf\r\n",
    "    elif recorte > lsup:\r\n",
    "        return lsup\r\n",
    "    else:\r\n",
    "        return recorte\r\n",
    "\r\n",
    "recorte = int(input(\"Numero a recortar: \"))\r\n",
    "linf = int(input(\"Limite inferior: \"))\r\n",
    "lsup = int(input(\"Limite superior: \"))\r\n",
    "\r\n",
    "print(recortar(recorte,linf,lsup))"
   ],
   "outputs": [
    {
     "output_type": "stream",
     "name": "stdout",
     "text": [
      "10\n"
     ]
    }
   ],
   "metadata": {
    "collapsed": false
   }
  },
  {
   "cell_type": "markdown",
   "source": [
    "**6) Realiza una función separar() que tome una lista de números enteros y devuelva dos listas ordenadas. La primera con los números pares, y la segunda con los números impares:**\n",
    "\n",
    "Por ejemplo: \n",
    "\n",
    "```python\n",
    "pares, impares = separar([6,5,2,1,7])\n",
    "print(pares)   # valdría [2, 6]\n",
    "print(impares)  # valdría [1, 5, 7]\n",
    "\n",
    "```\n",
    "\n",
    "*Nota: Para ordenar una lista automáticamente puedes usar el método .sort().*"
   ],
   "metadata": {}
  },
  {
   "cell_type": "code",
   "execution_count": 24,
   "source": [
    "numeros = [-12, 84, 13, 20, -33, 101, 9]\r\n",
    "\r\n",
    "# Completa el ejercicio aquí\r\n",
    "def separar(lista):\r\n",
    "\r\n",
    "    lista.sort()\r\n",
    "\r\n",
    "    pares = []\r\n",
    "    impares = []\r\n",
    "\r\n",
    "    for n in lista:\r\n",
    "        if n % 2 == 0:\r\n",
    "            pares.append(n)\r\n",
    "        else:\r\n",
    "            impares.append(n)\r\n",
    "\r\n",
    "    print(pares)\r\n",
    "    print(impares)\r\n",
    "\r\n",
    "separar(numeros)"
   ],
   "outputs": [
    {
     "output_type": "stream",
     "name": "stdout",
     "text": [
      "[-12, 20, 84]\n",
      "[-33, 9, 13, 101]\n"
     ]
    }
   ],
   "metadata": {
    "collapsed": false
   }
  }
 ],
 "metadata": {
  "anaconda-cloud": {},
  "kernelspec": {
   "name": "python3",
   "display_name": "Python 3.8.8 64-bit ('base': conda)"
  },
  "language_info": {
   "codemirror_mode": {
    "name": "ipython",
    "version": 3
   },
   "file_extension": ".py",
   "mimetype": "text/x-python",
   "name": "python",
   "nbconvert_exporter": "python",
   "pygments_lexer": "ipython3",
   "version": "3.8.8"
  },
  "interpreter": {
   "hash": "1386f00db9e6238f77d958fc7d28ba18915e180ae7aa41965f9b6571c5908d2d"
  }
 },
 "nbformat": 4,
 "nbformat_minor": 2
}