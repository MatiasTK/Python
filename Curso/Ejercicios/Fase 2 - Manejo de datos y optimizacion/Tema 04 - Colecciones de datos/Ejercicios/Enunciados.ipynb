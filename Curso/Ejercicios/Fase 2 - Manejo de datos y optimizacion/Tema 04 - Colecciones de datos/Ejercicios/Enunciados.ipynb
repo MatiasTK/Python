{
 "cells": [
  {
   "cell_type": "markdown",
   "source": [
    "# Tema 04: Colecciones de datos (Enunciados)\n",
    "*Nota: Estos ejercicios son optativos para hacer al final de la unidad y están pensados para apoyar tu aprendizaje*."
   ],
   "metadata": {}
  },
  {
   "cell_type": "markdown",
   "source": [
    "**1) Realiza un programa que siga las siguientes instrucciones:**\n",
    "* Crea un conjunto llamado usuarios con los usuarios Marta, David, Elvira, Juan y Marcos\n",
    "* Crea un conjunto llamado administradores con los administradores Juan y Marta.\n",
    "* Borra al administrador Juan del conjunto de administradores.\n",
    "* Añade a Marcos como un nuevo administrador, pero no lo borres del conjunto de usuarios.\n",
    "* Muestra todos los usuarios por pantalla de forma dinámica, además debes indicar cada usuario es administrador o no.\n",
    "\n",
    "*Notas: Los conjuntos se pueden recorrer dinámicamente utilizando el bucle for de forma similar a una lista. También cuentan con un método llamado **.discard(elemento)** que sirve para borrar un elemento.* "
   ],
   "metadata": {}
  },
  {
   "cell_type": "code",
   "execution_count": 49,
   "source": [
    "# Completa el ejercicio aquí\r\n",
    "c1 = set()\r\n",
    "c1 = {\"Marta\",\"David\",\"Elvira\",\"Juan\",\"Marcos\"} # los ordena automaticamente\r\n",
    "print(c1)\r\n",
    "\r\n",
    "administradores = set({\"Marta\",\"Juan\"})\r\n",
    "print(administradores)\r\n",
    "\r\n",
    "if \"Juan\" in administradores:\r\n",
    "    administradores.discard(\"Juan\")\r\n",
    "print(administradores)\r\n",
    "\r\n",
    "administradores.add(\"Marcos\")\r\n",
    "print(administradores)\r\n",
    "\r\n",
    "for x in c1:\r\n",
    "    if x in administradores:\r\n",
    "        print(\"Nombre:\",x,\"||\",\"Administrador: Si\",)\r\n",
    "    else:\r\n",
    "        print(\"Nombre:\",x,\"||\",\"Administrador: No\")"
   ],
   "outputs": [
    {
     "output_type": "stream",
     "name": "stdout",
     "text": [
      "{'Juan', 'Marta', 'Elvira', 'David', 'Marcos'}\n",
      "{'Marta', 'Juan'}\n",
      "{'Marta'}\n",
      "{'Marta', 'Marcos'}\n",
      "Nombre: Juan || Administrador: No\n",
      "Nombre: Marta || Administrador: Si\n",
      "Nombre: Elvira || Administrador: No\n",
      "Nombre: David || Administrador: No\n",
      "Nombre: Marcos || Administrador: Si\n"
     ]
    }
   ],
   "metadata": {
    "collapsed": false
   }
  },
  {
   "cell_type": "markdown",
   "source": [
    "**2) Durante el desarrollo de un pequeño videojuego se te encarga configurar y balancear cada clase de personaje jugable. Partiendo que la estadística base es 2, debes cumplir las siguientes condiciones: **\n",
    "* El caballero tiene el doble de vida y defensa que un guerrero.\n",
    "* El guerrero tiene el doble de ataque y alcance que un caballero.\n",
    "* El arquero tiene la misma vida y ataque que un guerrero, pero la mitad de su defensa y el doble de su alcance.\n",
    "* Muestra como quedan las propiedades de los tres personajes."
   ],
   "metadata": {}
  },
  {
   "cell_type": "code",
   "execution_count": 18,
   "source": [
    "caballero = { 'vida':2, 'ataque':2, 'defensa': 2, 'alcance':2 }\r\n",
    "guerrero  = { 'vida':2, 'ataque':2, 'defensa': 2, 'alcance':2 }\r\n",
    "arquero   = { 'vida':2, 'ataque':2, 'defensa': 2, 'alcance':2 }\r\n",
    "\r\n",
    "# Completa el ejercicio aquí\r\n",
    "\r\n",
    "caballero[\"vida\"] = (guerrero[\"vida\"]) * 2\r\n",
    "caballero[\"defensa\"] = (guerrero[\"defensa\"]) * 2\r\n",
    "print(caballero)\r\n",
    "\r\n",
    "guerrero[\"ataque\"] = caballero[\"ataque\"] * 2\r\n",
    "guerrero[\"alcance\"] = caballero[\"alcance\"] * 2\r\n",
    "print(guerrero)\r\n",
    "\r\n",
    "arquero[\"vida\"] = guerrero[\"vida\"]\r\n",
    "arquero[\"ataque\"] = guerrero[\"ataque\"]\r\n",
    "arquero[\"defensa\"] = guerrero[\"defensa\"] / 2\r\n",
    "arquero[\"alcance\"] = guerrero[\"alcance\"] * 2\r\n",
    "print(arquero)"
   ],
   "outputs": [
    {
     "output_type": "stream",
     "name": "stdout",
     "text": [
      "{'vida': 4, 'ataque': 2, 'defensa': 4, 'alcance': 2}\n",
      "{'vida': 2, 'ataque': 4, 'defensa': 2, 'alcance': 4}\n",
      "{'vida': 2, 'ataque': 4, 'defensa': 1.0, 'alcance': 8}\n"
     ]
    }
   ],
   "metadata": {
    "collapsed": false
   }
  },
  {
   "cell_type": "markdown",
   "source": [
    "**3) Durante la planificación de un proyecto se han acordado una lista de tareas. Para cada una de estas tareas se ha asignado un orden de prioridad (cuanto menor es el número de orden, más prioridad).**\n",
    "\n",
    "**¿Eres capaz de crear una estructura del tipo cola con todas las tareas ordenadas pero sin los números de orden?**\n",
    "\n",
    "Pista: Para ordenar automáticamente una lista es posible utilizar el método .sort()."
   ],
   "metadata": {}
  },
  {
   "cell_type": "code",
   "execution_count": 50,
   "source": [
    "tareas = [ \r\n",
    "    [6, 'Distribución'],\r\n",
    "    [2, 'Diseño'],\r\n",
    "    [1, 'Concepción'],\r\n",
    "    [7, 'Mantenimiento'],\r\n",
    "    [4, 'Producción'],\r\n",
    "    [3, 'Planificación'],\r\n",
    "    [5, 'Pruebas']\r\n",
    "]\r\n",
    "\r\n",
    "print(\"==Tareas desordenadas==\")\r\n",
    "for tarea in tareas:\r\n",
    "    print(tarea[0], tarea[1])\r\n",
    "\r\n",
    "# Completa el ejercicio aquí\r\n",
    "tareas.sort()\r\n",
    "\r\n",
    "print(\"--Tareas ordenadas--\")\r\n",
    "for tarea in tareas:\r\n",
    "    print(tarea[0], tarea[1])\r\n",
    "\r\n",
    "from collections import deque\r\n",
    "\r\n",
    "cola = deque()\r\n",
    "\r\n",
    "for tarea in tareas:\r\n",
    "    cola.append(tarea[1])\r\n",
    "\r\n",
    "print(cola)\r\n"
   ],
   "outputs": [
    {
     "output_type": "stream",
     "name": "stdout",
     "text": [
      "==Tareas desordenadas==\n",
      "6 Distribución\n",
      "2 Diseño\n",
      "1 Concepción\n",
      "7 Mantenimiento\n",
      "4 Producción\n",
      "3 Planificación\n",
      "5 Pruebas\n",
      "--Tareas ordenadas--\n",
      "1 Concepción\n",
      "2 Diseño\n",
      "3 Planificación\n",
      "4 Producción\n",
      "5 Pruebas\n",
      "6 Distribución\n",
      "7 Mantenimiento\n"
     ]
    },
    {
     "output_type": "error",
     "ename": "AttributeError",
     "evalue": "'collections.deque' object attribute 'append' is read-only",
     "traceback": [
      "\u001b[1;31m---------------------------------------------------------------------------\u001b[0m",
      "\u001b[1;31mAttributeError\u001b[0m                            Traceback (most recent call last)",
      "\u001b[1;32m<ipython-input-50-33a241de69de>\u001b[0m in \u001b[0;36m<module>\u001b[1;34m\u001b[0m\n\u001b[0;32m     25\u001b[0m \u001b[1;33m\u001b[0m\u001b[0m\n\u001b[0;32m     26\u001b[0m \u001b[1;32mfor\u001b[0m \u001b[0mtarea\u001b[0m \u001b[1;32min\u001b[0m \u001b[0mtareas\u001b[0m\u001b[1;33m:\u001b[0m\u001b[1;33m\u001b[0m\u001b[1;33m\u001b[0m\u001b[0m\n\u001b[1;32m---> 27\u001b[1;33m     \u001b[0mcola\u001b[0m\u001b[1;33m.\u001b[0m\u001b[0mappend\u001b[0m \u001b[1;33m=\u001b[0m \u001b[0mtarea\u001b[0m\u001b[1;33m[\u001b[0m\u001b[1;36m1\u001b[0m\u001b[1;33m]\u001b[0m\u001b[1;33m\u001b[0m\u001b[1;33m\u001b[0m\u001b[0m\n\u001b[0m\u001b[0;32m     28\u001b[0m \u001b[1;33m\u001b[0m\u001b[0m\n\u001b[0;32m     29\u001b[0m \u001b[0mprint\u001b[0m\u001b[1;33m(\u001b[0m\u001b[0mcola\u001b[0m\u001b[1;33m)\u001b[0m\u001b[1;33m\u001b[0m\u001b[1;33m\u001b[0m\u001b[0m\n",
      "\u001b[1;31mAttributeError\u001b[0m: 'collections.deque' object attribute 'append' is read-only"
     ]
    }
   ],
   "metadata": {
    "collapsed": false
   }
  }
 ],
 "metadata": {
  "anaconda-cloud": {},
  "kernelspec": {
   "name": "python3",
   "display_name": "Python 3.8.8 64-bit ('base': conda)"
  },
  "language_info": {
   "codemirror_mode": {
    "name": "ipython",
    "version": 3
   },
   "file_extension": ".py",
   "mimetype": "text/x-python",
   "name": "python",
   "nbconvert_exporter": "python",
   "pygments_lexer": "ipython3",
   "version": "3.8.8"
  },
  "interpreter": {
   "hash": "1386f00db9e6238f77d958fc7d28ba18915e180ae7aa41965f9b6571c5908d2d"
  }
 },
 "nbformat": 4,
 "nbformat_minor": 2
}