{
 "cells": [
  {
   "cell_type": "markdown",
   "source": [
    "# Tema 05: Entradas y salidas (Enunciados)\n",
    "*Nota: Estos ejercicios son optativos para hacer al final de la unidad y están pensados para apoyar tu aprendizaje*."
   ],
   "metadata": {}
  },
  {
   "cell_type": "markdown",
   "source": [
    "**1) Formatea los siguientes valores para mostrar el resultado indicado:**\n",
    "\n",
    "* \"Hola Mundo\" → Alineado a la derecha en 20 caracteres\n",
    "* \"Hola Mundo\" → Truncamiento en el cuarto carácter (índice 3)\n",
    "* \"Hola Mundo\" → Alineamiento al centro en 20 caracteres con truncamiento en el segundo carácter (índice 1)\n",
    "* 150 → Formateo a 5 números enteros rellenados con ceros\n",
    "* 7887 → Formateo a 7 números enteros rellenados con espacios\n",
    "* 20.02 → Formateo a 3 números enteros y 3 números decimales"
   ],
   "metadata": {}
  },
  {
   "cell_type": "code",
   "execution_count": 18,
   "source": [
    "# Completa el ejercicio aquí\r\n",
    "print( \"{:>20}\".format(\"Hola Mundo\") )\r\n",
    "print( \"{:.3}\".format(\"Hola Mundo\") )\r\n",
    "print( \"{:^20.1}\".format(\"Hola Mundo\") )\r\n",
    "print( \"{:05d}\".format(150) )\r\n",
    "print( \"{:7d}\".format(7887) )\r\n",
    "print( \"{:07.3f}\".format(20.02) ) # 7 caracteres, 3 flotantes"
   ],
   "outputs": [
    {
     "output_type": "stream",
     "name": "stdout",
     "text": [
      "          Hola Mundo\n",
      "Hol\n",
      "         H          \n",
      "00150\n",
      "   7887\n",
      "020.020\n"
     ]
    }
   ],
   "metadata": {
    "collapsed": false,
    "scrolled": true
   }
  },
  {
   "cell_type": "markdown",
   "source": [
    "**2) Crea un script llamado tabla.py que realice las siguientes tareas:**\n",
    "* Debe tomar 2 argumentos, ambos números enteros positivos del 1 al 9, sino mostrará un error.\n",
    "* El primer argumento hará referencia a las filas de una tabla, el segundo a las columnas.\n",
    "* En caso de no recibir uno o ambos argumentos, debe mostrar información acerca de cómo utilizar el script.\n",
    "* El script contendrá un bucle for que itere el número de veces del primer argumento.\n",
    "* Dentro del for, añade un segundo for que itere el número de veces del segundo argumento.\n",
    "* Dentro del segundo for ejecuta una instrucción ** print(\" * \", end='')**, (end='' evita el salto de línea).\n",
    "* Ejecuta el código y observa el resultado.\n",
    "\n",
    "** Ahora intenta deducir dónde y cómo añadir otra instruccion print para dibujar una tabla.**\n",
    "\n",
    "*Recordatorio: Los argumentos se envían como cadenas separadas por espacios, si quieres enviar varias palabras como un argumento deberás indicarlas entre comillas dobles \"esto es un argumento\". Para capturar los argumentos debes utilizar el módulo **sys** y su lista **argv**:*\n",
    "```python\n",
    "import sys\n",
    "print(sys.argv) # argumentos enviados\n",
    "```"
   ],
   "metadata": {}
  },
  {
   "cell_type": "markdown",
   "source": [
    "**3) [Avanzado] Crea un script llamado descomposicion.py que realice las siguientes tareas:**\n",
    "* Debe tomar 1 argumento que será un número entero positivo.\n",
    "* En caso de no recibir un argumento, debe mostrar información acerca de cómo utilizar el script.\n",
    "\n",
    "** El objetivo del script es descomponer el número en unidades, decenas, centenas, miles... tal que por ejemplo si se introduce el número:**\n",
    "\n",
    "```\n",
    "> 3647\n",
    "```\n",
    "** El programa deberá devolver una descomposición línea a línea como la siguiente utilizando las técnicas de formateo: **\n",
    "\n",
    "```\n",
    "> 0007\n",
    "  0040\n",
    "  0600\n",
    "  3000\n",
    "```\n",
    "*Pista: Que el valor sea un número no significa necesariamente que deba serlo para formatearlo. Necesitarás jugar muy bien con los índices y realizar muchas conversiones entre tipos cadenas, números y viceversa*"
   ],
   "metadata": {}
  }
 ],
 "metadata": {
  "anaconda-cloud": {},
  "kernelspec": {
   "name": "python3",
   "display_name": "Python 3.8.8 64-bit ('base': conda)"
  },
  "language_info": {
   "codemirror_mode": {
    "name": "ipython",
    "version": 3
   },
   "file_extension": ".py",
   "mimetype": "text/x-python",
   "name": "python",
   "nbconvert_exporter": "python",
   "pygments_lexer": "ipython3",
   "version": "3.8.8"
  },
  "interpreter": {
   "hash": "1386f00db9e6238f77d958fc7d28ba18915e180ae7aa41965f9b6571c5908d2d"
  }
 },
 "nbformat": 4,
 "nbformat_minor": 2
}