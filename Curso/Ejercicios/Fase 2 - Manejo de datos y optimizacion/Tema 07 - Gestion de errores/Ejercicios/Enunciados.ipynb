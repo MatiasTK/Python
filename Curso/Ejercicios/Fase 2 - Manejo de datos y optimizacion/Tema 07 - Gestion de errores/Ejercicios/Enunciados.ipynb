{
 "cells": [
  {
   "cell_type": "markdown",
   "source": [
    "# Tema 07: Gestión de errores (Enunciados)\n",
    "*Nota: Estos ejercicios son optativos para hacer al final de la unidad y están pensados para apoyar tu aprendizaje*."
   ],
   "metadata": {}
  },
  {
   "cell_type": "markdown",
   "source": [
    "**1) Localiza el error en el siguiente bloque de código. Crea una excepción para evitar que el programa se bloquee y además explica en un mensaje al usuario la causa y/o solución:**"
   ],
   "metadata": {}
  },
  {
   "cell_type": "code",
   "execution_count": 1,
   "source": [
    "# Completa el ejercicio aquí\r\n",
    "try:\r\n",
    "    resultado = 10/0\r\n",
    "except ZeroDivisionError:\r\n",
    "    print(\"No se puede dividir por 0\")\r\n",
    "    print(\"Porfavor ingresa otro numero\")"
   ],
   "outputs": [
    {
     "output_type": "stream",
     "name": "stdout",
     "text": [
      "No se puede dividir por 0\n",
      "Porfavor ingresa otro numero\n"
     ]
    }
   ],
   "metadata": {
    "collapsed": false
   }
  },
  {
   "cell_type": "markdown",
   "source": [
    "**2) Localiza el error en el siguiente bloque de código.  Crea una excepción para evitar que el programa se bloquee y además explica en un mensaje al usuario la causa y/o solución:**"
   ],
   "metadata": {}
  },
  {
   "cell_type": "code",
   "execution_count": 5,
   "source": [
    "# Completa el ejercicio aquí\r\n",
    "try:\r\n",
    "    lista = [1, 2, 3, 4, 5]\r\n",
    "    lista[10]\r\n",
    "except IndexError:\r\n",
    "    print(\"Estas accediendo a una posicion invalida en la lista\")\r\n",
    "    print(\"Porvaor ingresa un numero entre 0 y\",len(lista)-1)"
   ],
   "outputs": [
    {
     "output_type": "stream",
     "name": "stdout",
     "text": [
      "Estas accediendo a una posicion invalida en la lista\n",
      "Porvaor ingresa un numero entre 0 y 4\n"
     ]
    }
   ],
   "metadata": {
    "collapsed": false
   }
  },
  {
   "cell_type": "markdown",
   "source": [
    "**3) Localiza el error en el siguiente bloque de código.  Crea una excepción para evitar que el programa se bloquee y además explica en un mensaje al usuario la causa y/o solución:**"
   ],
   "metadata": {}
  },
  {
   "cell_type": "code",
   "execution_count": 7,
   "source": [
    "# Completa el ejercicio aquí\r\n",
    "try:\r\n",
    "    colores = { 'rojo':'red', 'verde':'green', 'negro':'black' } \r\n",
    "    colores['blanco']\r\n",
    "except KeyError:\r\n",
    "    print(\"Estas ingresando un valor inexistente, el diccionario no posee ese color\")\r\n",
    "    print(\"Porfavor ingresa uno de los siguientes valores:\")\r\n",
    "    for color in colores:\r\n",
    "        print(color)"
   ],
   "outputs": [
    {
     "output_type": "stream",
     "name": "stdout",
     "text": [
      "Estas ingresando un valor inexistente, el diccionario no posee ese color\n",
      "Porfavor ingresa uno de los siguientes valores:\n",
      "rojo\n",
      "verde\n",
      "negro\n"
     ]
    }
   ],
   "metadata": {
    "collapsed": false
   }
  },
  {
   "cell_type": "markdown",
   "source": [
    "**4) Localiza el error en el siguiente bloque de código.  Crea una excepción para evitar que el programa se bloquee y además explica en un mensaje al usuario la causa y/o solución:**"
   ],
   "metadata": {}
  },
  {
   "cell_type": "code",
   "execution_count": 8,
   "source": [
    "# Completa el ejercicio aquí\r\n",
    "try:\r\n",
    "    resultado = 15 + \"20\"\r\n",
    "except TypeError:\r\n",
    "    print(\"Hay un error de tipeo, estas sumando un numero y un string\")\r\n",
    "    print(\"Deberias hacer un int(input())\")"
   ],
   "outputs": [
    {
     "output_type": "stream",
     "name": "stdout",
     "text": [
      "Hay un error de tipeo, estas sumando un numero y un string\n",
      "Deberias hacer un int(input())\n"
     ]
    }
   ],
   "metadata": {
    "collapsed": false
   }
  },
  {
   "cell_type": "markdown",
   "source": [
    "**5) Realiza una función llamada agregar_una_vez() que reciba una lista y un elemento. La función debe añadir el elemento al final de la lista con la condición de no repetir ningún elemento. Además si este elemento ya se encuentra en la lista se debe invocar un error de tipo ValueError que debes capturar y mostrar este mensaje en su lugar:**\n",
    "\n",
    "```\n",
    "  Error: Imposible añadir elementos duplicados => [elemento].\n",
    "```\n",
    "** Prueba de agregar los elementos 10, -2, \"Hola\" a la lista de elementos con la función una vez la has creado y luego muestra su contenido.**\n",
    "\n",
    "*Nota: Puedes utilizar la sintaxis: elemento in lista*"
   ],
   "metadata": {}
  },
  {
   "cell_type": "code",
   "execution_count": 13,
   "source": [
    "elementos = [1, 5, -2]\r\n",
    "\r\n",
    "# Completa el ejercicio aquí\r\n",
    "def agregar_una_vez(elementos,elemento):\r\n",
    "    try:\r\n",
    "        if elemento not in elementos:\r\n",
    "            elementos.append(elemento)\r\n",
    "            print(elementos)\r\n",
    "        else:\r\n",
    "            raise ValueError\r\n",
    "    except ValueError:\r\n",
    "        print(\"Error: Imposible añadir elementos duplicados ->\",elemento)\r\n",
    "\r\n",
    "agregar_una_vez(elementos,10)\r\n",
    "agregar_una_vez(elementos,-2)\r\n",
    "agregar_una_vez(elementos,\"Hola\")"
   ],
   "outputs": [
    {
     "output_type": "stream",
     "name": "stdout",
     "text": [
      "[1, 5, -2, 10]\n",
      "Error: Imposible añadir elementos duplicados -> -2\n",
      "[1, 5, -2, 10, 'Hola']\n"
     ]
    }
   ],
   "metadata": {
    "collapsed": false
   }
  }
 ],
 "metadata": {
  "anaconda-cloud": {},
  "kernelspec": {
   "name": "python3",
   "display_name": "Python 3.8.8 64-bit ('base': conda)"
  },
  "language_info": {
   "codemirror_mode": {
    "name": "ipython",
    "version": 3
   },
   "file_extension": ".py",
   "mimetype": "text/x-python",
   "name": "python",
   "nbconvert_exporter": "python",
   "pygments_lexer": "ipython3",
   "version": "3.8.8"
  },
  "interpreter": {
   "hash": "1386f00db9e6238f77d958fc7d28ba18915e180ae7aa41965f9b6571c5908d2d"
  }
 },
 "nbformat": 4,
 "nbformat_minor": 2
}