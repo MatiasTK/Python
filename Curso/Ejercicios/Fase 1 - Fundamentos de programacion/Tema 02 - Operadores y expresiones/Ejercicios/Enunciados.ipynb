{
 "cells": [
  {
   "cell_type": "markdown",
   "source": [
    "# Tema 02: Operadores y expresiones (Enunciados)\n",
    "*Nota: Estos ejercicios son optativos para hacer al final de la unidad y están pensados para apoyar tu aprendizaje*."
   ],
   "metadata": {}
  },
  {
   "cell_type": "markdown",
   "source": [
    "**1) Realiza un programa que lea 2 números por teclado y determine los siguientes aspectos (es suficiene con mostrar True o False):**\n",
    "* Si los dos números son iguales\n",
    "* Si los dos números son diferentes\n",
    "* Si el primero es mayor que el segundo\n",
    "* Si el segundo es mayor o igual que el primero"
   ],
   "metadata": {}
  },
  {
   "cell_type": "code",
   "execution_count": 1,
   "source": [
    "# Completa el ejercicio aquí\r\n",
    "a = input(\"Ingresa el primer numero: \")\r\n",
    "b = input(\"Ingresa el segundo numero: \")\r\n",
    "\r\n",
    "if a == b:\r\n",
    "    print(\"Los dos numeros son iguales\")\r\n",
    "else:\r\n",
    "    print(\"Los dos numeros son diferentes\")\r\n",
    "\r\n",
    "if a > b:\r\n",
    "    print(\"El primer numero es mayor que el segundo\")\r\n",
    "else:\r\n",
    "    print(\"El segundo numero es mayor que el primero\")"
   ],
   "outputs": [
    {
     "output_type": "stream",
     "name": "stdout",
     "text": [
      "Los dos numeros son diferentes\n",
      "El segundo numero es mayor que el primero\n"
     ]
    }
   ],
   "metadata": {
    "collapsed": false
   }
  },
  {
   "cell_type": "markdown",
   "source": [
    "**2) Utilizando operadores lógicos, determina si una cadena de texto introducida por el usuario tiene una longitud mayor o igual que 3 y a su vez es menor que 10 (es suficiene con mostrar True o False):**"
   ],
   "metadata": {}
  },
  {
   "cell_type": "code",
   "execution_count": 4,
   "source": [
    "# Completa el ejercicio aquí\r\n",
    "cadena = input(\"Ingresa una frase: \")\r\n",
    "\r\n",
    "if len(cadena) >= 3 and len(cadena) < 10:\r\n",
    "    print(True)\r\n",
    "else:\r\n",
    "    print(False)\r\n"
   ],
   "outputs": [
    {
     "output_type": "stream",
     "name": "stdout",
     "text": [
      "True\n"
     ]
    }
   ],
   "metadata": {
    "collapsed": false
   }
  },
  {
   "cell_type": "markdown",
   "source": [
    "**3) Realiza un programa que cumpla el siguiente algoritmo utilizando siempre que sea posible operadores en asignación:**\n",
    "* Guarda en una variable numero_magico el valor 12345679 (sin el 8)\n",
    "* Lee por pantalla otro numero_usuario, especifica que sea entre 1 y 9 (asegúrate que es un número)\n",
    "* Multiplica el numero_usuario por 9 en sí mismo\n",
    "* Multiplica el numero_magico por el numero_usuario en sí mismo\n",
    "* Finalmente muestra el valor final del numero_magico por pantalla\n"
   ],
   "metadata": {}
  },
  {
   "cell_type": "code",
   "execution_count": 5,
   "source": [
    "# Completa el ejercicio aquí\r\n",
    "numero_magico = 12345679\r\n",
    "numero_usuario = int(input(\"Pone un numero entre 1 y 9\")) #Importante declararlo como int sino se rompe todo xd\r\n",
    "numero_usuario *= 9\r\n",
    "numero_magico *= numero_usuario\r\n",
    "print(numero_magico)"
   ],
   "outputs": [
    {
     "output_type": "stream",
     "name": "stdout",
     "text": [
      "222222222\n"
     ]
    }
   ],
   "metadata": {
    "collapsed": false
   }
  },
  {
   "cell_type": "code",
   "execution_count": null,
   "source": [],
   "outputs": [],
   "metadata": {}
  }
 ],
 "metadata": {
  "anaconda-cloud": {},
  "kernelspec": {
   "name": "python3",
   "display_name": "Python 3.8.8 64-bit ('base': conda)"
  },
  "language_info": {
   "codemirror_mode": {
    "name": "ipython",
    "version": 3
   },
   "file_extension": ".py",
   "mimetype": "text/x-python",
   "name": "python",
   "nbconvert_exporter": "python",
   "pygments_lexer": "ipython3",
   "version": "3.8.8"
  },
  "interpreter": {
   "hash": "1386f00db9e6238f77d958fc7d28ba18915e180ae7aa41965f9b6571c5908d2d"
  }
 },
 "nbformat": 4,
 "nbformat_minor": 2
}