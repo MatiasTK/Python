{
 "cells": [
  {
   "cell_type": "markdown",
   "source": [
    "# Tema 03: Control de flujo (Enunciados)\n",
    "*Nota: Estos ejercicios son optativos para hacer al final de la unidad y están pensados para apoyar tu aprendizaje*."
   ],
   "metadata": {}
  },
  {
   "cell_type": "markdown",
   "source": [
    "**1) Realiza un programa que lea dos números por teclado y permita elegir entre 3 opciones en un menú:** \n",
    "* Mostrar una suma de los dos números\n",
    "* Mostrar una resta de los dos números (el primero menos el segundo)\n",
    "* Mostrar una multiplicación de los dos números\n",
    "* En caso de no introducir una opción válida, el programa informará de que no es correcta."
   ],
   "metadata": {}
  },
  {
   "cell_type": "code",
   "execution_count": 4,
   "source": [
    "# Completa el ejercicio aquí\r\n",
    "n1 = int(input(\"Introduce el primer numero: \"))\r\n",
    "n2 = int(input(\"Introduce el segundo numero: \"))\r\n",
    "\r\n",
    "hacer = int(input(\"¿Que deseas hacer?\\n1)Sumar\\n2)Restar\\n3)Multiplicar\\n\"))\r\n",
    "\r\n",
    "if hacer == 1:\r\n",
    "    print(\"El resultado de la suma es:\",n1+n2)\r\n",
    "elif hacer == 2:\r\n",
    "    print(\"El resultado de la resta es:\",n1-n2)\r\n",
    "elif hacer == 3:\r\n",
    "    print(\"El resultado de la multiplicacion es:\",n1*n2)\r\n",
    "else:\r\n",
    "    print(\"El caracter introducido no es valido\")\r\n",
    "\r\n",
    "\r\n"
   ],
   "outputs": [
    {
     "output_type": "stream",
     "name": "stdout",
     "text": [
      "El resultado de la multiplicacion es: 2\n"
     ]
    }
   ],
   "metadata": {
    "collapsed": false
   }
  },
  {
   "cell_type": "markdown",
   "source": [
    "**2) Realiza un programa que lea un número impar por teclado. Si el usuario no introduce un número impar, debe repetise el proceso hasta que lo introduzca correctamente.**"
   ],
   "metadata": {}
  },
  {
   "cell_type": "code",
   "execution_count": 6,
   "source": [
    "# Completa el ejercicio aquí\r\n",
    "\r\n",
    "impar = int(input(\"Introduce un numero impar: \"))\r\n",
    "\r\n",
    "while impar % 2 == 0:\r\n",
    "    impar = int(input(\"Introduce un numero impar: \"))\r\n"
   ],
   "outputs": [],
   "metadata": {
    "collapsed": false
   }
  },
  {
   "cell_type": "markdown",
   "source": [
    "**3) Realiza un programa que sume todos los números enteros pares desde el 0 hasta el 100:**\n",
    "\n",
    "*Sugerencia: Puedes utilizar la funciones sum() y range() para hacerlo más fácil. El tercer parámetro en la función range(inicio, fin, salto) indica un salto de números, pruébalo.*"
   ],
   "metadata": {}
  },
  {
   "cell_type": "code",
   "execution_count": 24,
   "source": [
    "# Completa el ejercicio aquí\r\n",
    "\r\n",
    "suma = 0\r\n",
    "\r\n",
    "i = 0\r\n",
    "\r\n",
    "while i <= 100:\r\n",
    "    if i % 2 == 0:\r\n",
    "        suma += i\r\n",
    "    i += 1\r\n",
    "\r\n",
    "suma"
   ],
   "outputs": [
    {
     "output_type": "execute_result",
     "data": {
      "text/plain": [
       "2550"
      ]
     },
     "metadata": {},
     "execution_count": 24
    }
   ],
   "metadata": {
    "collapsed": false
   }
  },
  {
   "cell_type": "markdown",
   "source": [
    "**4) Realiza un programa que pida al usuario cuantos números quiere introducir. Luego lee todos los números y realiza una media aritmética:**\n"
   ],
   "metadata": {}
  },
  {
   "cell_type": "code",
   "execution_count": 26,
   "source": [
    "# Completa el ejercicio aquí\r\n",
    "\r\n",
    "tope = int(input(\"Cuantos numeros queres introducir: \"))\r\n",
    "i = 0\r\n",
    "numeros = 0\r\n",
    "while i < tope:\r\n",
    "    siguiente = int(input(\"Introduce el siguiente numero en la posicion\"))\r\n",
    "    numeros += siguiente\r\n",
    "    i += 1\r\n",
    "\r\n",
    "media = numeros / tope\r\n",
    "\r\n",
    "print(media)"
   ],
   "outputs": [
    {
     "output_type": "stream",
     "name": "stdout",
     "text": [
      "3.0\n"
     ]
    }
   ],
   "metadata": {
    "collapsed": false
   }
  },
  {
   "cell_type": "markdown",
   "source": [
    "**5) Realiza un programa que pida al usuario un número entero del 0 al 9, y que mientras el número no sea correcto se repita el proceso. Luego debe comprobar si el número se encuentra en la lista de números y notificarlo:**\n",
    "\n",
    "*Consejo: La sintaxis \"valor in lista\" permite comprobar fácilmente si un valor se encuentra en una lista (devuelve True o False)*"
   ],
   "metadata": {}
  },
  {
   "cell_type": "code",
   "execution_count": 1,
   "source": [
    "# Completa el ejercicio aquí\r\n",
    "numeros = [1, 3, 6, 9]\r\n",
    "n_usuario = int(input(\"Introduci un numero del 0 al 9:\"))\r\n",
    "\r\n",
    "while n_usuario < 0 or n_usuario > 9:\r\n",
    "    n_usuario = int(input(\"Introduci un numero del 0 al 9:\"))\r\n",
    "\r\n",
    "for valor in numeros:\r\n",
    "    if valor == n_usuario:\r\n",
    "        print(True)\r\n",
    "        break    \r\n",
    "else: \r\n",
    "    print(False)\r\n"
   ],
   "outputs": [
    {
     "output_type": "stream",
     "name": "stdout",
     "text": [
      "True\n"
     ]
    }
   ],
   "metadata": {
    "collapsed": false
   }
  },
  {
   "cell_type": "markdown",
   "source": [
    "**6) Utilizando la función range() y la conversión a listas genera las siguientes listas dinámicamente:**\n",
    "* Todos los números del 0 al 10 [0, 1, 2, ..., 10]\n",
    "* Todos los números del -10 al 0 [-10, -9, -8, ..., 0]\n",
    "* Todos los números pares del 0 al 20 [0, 2, 4, ..., 20]\n",
    "* Todos los números impares entre -20 y 0 [-19, -17, -15, ..., -1]\n",
    "* Todos los números múltiples de 5 del 0 al 50 [0, 5, 10, ..., 50]\n",
    "\n",
    "*Pista: Utiliza el tercer parámetro de la función range(inicio, fin, salto).*"
   ],
   "metadata": {}
  },
  {
   "cell_type": "code",
   "execution_count": 65,
   "source": [
    "# Completa el ejercicio\r\n",
    "\r\n",
    "print(list(range(11)))\r\n",
    "\r\n",
    "print(list(range(-10,1)))\r\n",
    "\r\n",
    "print(list(range(0,21,2)))\r\n",
    "\r\n",
    "print(list(range(-19,1,2)))\r\n",
    "\r\n",
    "print(list(range(0,51,5)))"
   ],
   "outputs": [
    {
     "output_type": "stream",
     "name": "stdout",
     "text": [
      "[0, 1, 2, 3, 4, 5, 6, 7, 8, 9, 10]\n",
      "[-10, -9, -8, -7, -6, -5, -4, -3, -2, -1, 0]\n",
      "[0, 2, 4, 6, 8, 10, 12, 14, 16, 18, 20]\n",
      "[-19, -17, -15, -13, -11, -9, -7, -5, -3, -1]\n",
      "[0, 5, 10, 15, 20, 25, 30, 35, 40, 45, 50]\n"
     ]
    }
   ],
   "metadata": {
    "collapsed": false
   }
  },
  {
   "cell_type": "markdown",
   "source": [
    "**7) Dadas dos listas, debes generar una tercera con todos los elementos que se repitan en ellas, pero no debe repetise ningún elemento en la nueva lista:**"
   ],
   "metadata": {}
  },
  {
   "cell_type": "code",
   "execution_count": 9,
   "source": [
    "# Completa el ejercicio aquí\r\n",
    "vector1 = [1,2,3,4,5]\r\n",
    "vector2 = [5,6,7,8,9]\r\n",
    "\r\n",
    "resultado = []\r\n",
    "\r\n",
    "i = 0\r\n",
    "j = 0\r\n",
    "\r\n",
    "while (i < len(vector1)) and (j < len(vector2)):\r\n",
    "    if vector1[i] == vector2[j]:\r\n",
    "        resultado.append(vector1[i])\r\n",
    "        i += 1\r\n",
    "        j += 1\r\n",
    "    elif vector1[i] < vector2[j]:\r\n",
    "        i += 1\r\n",
    "    else:\r\n",
    "        j += 1\r\n",
    "\r\n",
    "print(resultado)\r\n",
    "\r\n",
    "##Manera de hacerlo en Python \r\n",
    "\r\n",
    "for i in vector1:\r\n",
    "    if i in vector2 and i not in resultado:\r\n",
    "        resultado.append(i)\r\n",
    "\r\n",
    "print(resultado)\r\n",
    "\r\n",
    "#Con letras\r\n",
    "\r\n",
    "v1 = [\"H\",\"o\",\"l\",\"a\",\"\",\"J\",\"o\",\"r\",\"g\",\"e\"]\r\n",
    "v2 = [\"H\",\"o\",\"l\",\"a\",\"\",\"M\",\"a\",\"n\",\"u\"]\r\n",
    "\r\n",
    "v3 = []\r\n",
    "\r\n",
    "for letra in v1:\r\n",
    "    if letra in v2 and letra not in v3:\r\n",
    "        v3.append(letra)\r\n",
    "\r\n",
    "print(v3)\r\n"
   ],
   "outputs": [
    {
     "output_type": "stream",
     "name": "stdout",
     "text": [
      "[5]\n",
      "[5]\n",
      "['H', 'o', 'l', 'a', '']\n"
     ]
    }
   ],
   "metadata": {
    "collapsed": false
   }
  }
 ],
 "metadata": {
  "anaconda-cloud": {},
  "kernelspec": {
   "name": "python3",
   "display_name": "Python 3.8.8 64-bit ('base': conda)"
  },
  "language_info": {
   "codemirror_mode": {
    "name": "ipython",
    "version": 3
   },
   "file_extension": ".py",
   "mimetype": "text/x-python",
   "name": "python",
   "nbconvert_exporter": "python",
   "pygments_lexer": "ipython3",
   "version": "3.8.8"
  },
  "interpreter": {
   "hash": "1386f00db9e6238f77d958fc7d28ba18915e180ae7aa41965f9b6571c5908d2d"
  }
 },
 "nbformat": 4,
 "nbformat_minor": 2
}