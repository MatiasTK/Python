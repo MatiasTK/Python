{
 "cells": [
  {
   "cell_type": "markdown",
   "source": [
    "# Tema 01: Introducción informal (Enunciados)\n",
    "*Nota: Estos ejercicios son optativos para hacer al final de la unidad y están pensados para apoyar tu aprendizaje*."
   ],
   "metadata": {}
  },
  {
   "cell_type": "markdown",
   "source": [
    "**1) Identifica el tipo de dato (int, float, string o list) de los siguientes valores literales**\n",
    "```python\n",
    "\"Hola Mundo\" \n",
    "[1, 10, 100]\n",
    "-25          \n",
    "1.167       \n",
    "[\"Hola\", \"Mundo\"]  \n",
    "' '        \n",
    "```"
   ],
   "metadata": {}
  },
  {
   "cell_type": "markdown",
   "source": [
    "string\r\n",
    "list\r\n",
    "int\r\n",
    "float\r\n",
    "list\r\n",
    "char? "
   ],
   "metadata": {}
  },
  {
   "cell_type": "markdown",
   "source": [
    "**2) Determina mentalmente (sin programar) el resultado que aparecerá por pantalla a partir de las siguientes variables:**\n",
    "```python\n",
    "a = 10\n",
    "b = -5\n",
    "c = \"Hola \"\n",
    "d = [1, 2, 3]\n",
    "```\n",
    "```python\n",
    "print(a * 5)  \n",
    "print(a - b)    \n",
    "print(c + \"Mundo\")   \n",
    "print(c * 2)        \n",
    "print(c[-1])        \n",
    "print(c[1:])    \n",
    "print(d + d)       \n",
    "```"
   ],
   "metadata": {}
  },
  {
   "cell_type": "markdown",
   "source": [
    "50\r\n",
    "15\r\n",
    "Hola Mundo\r\n",
    "Error? X -> Hola Hola \r\n",
    "a\r\n",
    "ola \r\n",
    "[1,2,3,1,2,3]"
   ],
   "metadata": {}
  },
  {
   "cell_type": "markdown",
   "source": [
    "**3) El siguiente código pretende realizar una media entre 3 números, pero no funciona correctamente. ¿Eres capaz de identificar el problema y solucionarlo?**"
   ],
   "metadata": {}
  },
  {
   "cell_type": "code",
   "execution_count": 54,
   "source": [
    "numero_1 = 9\r\n",
    "numero_2 = 3\r\n",
    "numero_3 = 6\r\n",
    "\r\n",
    "media = numero_1 + numero_2 + numero_3 / 3\r\n",
    "print(\"La nota media es\", media)"
   ],
   "outputs": [
    {
     "output_type": "stream",
     "name": "stdout",
     "text": [
      "La nota media es 14.0\n"
     ]
    }
   ],
   "metadata": {
    "collapsed": false
   }
  },
  {
   "cell_type": "markdown",
   "source": [
    "Esta mal media, deberia ser: media = (numero_1 + numero_2 + numero_3) / 3"
   ],
   "metadata": {}
  },
  {
   "cell_type": "markdown",
   "source": [
    "**4) A partir del ejercicio anterior, vamos a suponer que cada número es una nota, y lo que queremos es obtener la nota media. El problema es que cada nota tiene un valor porcentual: **\n",
    "\n",
    "* La primera nota vale un 15% del total\n",
    "* La segunda nota vale un 35% del total\n",
    "* La tercera nota vale un 50% del total\n",
    "\n",
    "**Desarrolla un programa para calcular perfectamente la nota final.**"
   ],
   "metadata": {}
  },
  {
   "cell_type": "code",
   "execution_count": 55,
   "source": [
    "nota_1 = 10\r\n",
    "nota_2 = 7\r\n",
    "nota_3 = 4\r\n",
    "\r\n",
    "# Completa el ejercicio aquí\r\n",
    "\r\n",
    "primer_nota = (10 * 15)/100\r\n",
    "segunda_nota = (7 * 35)/100\r\n",
    "tercer_nota = (4 * 50)/100 # o sino 4/2\r\n",
    "\r\n",
    "print(primer_nota,segunda_nota,tercer_nota)\r\n",
    "\r\n",
    "nota_media = (primer_nota + segunda_nota + tercer_nota) / 3\r\n",
    "\r\n",
    "print(nota_media)\r\n",
    "\r\n",
    "#Otra forma mas sencilla\r\n",
    "\r\n",
    "media = nota_1 * 0.15 + nota_2 * 0.35 + nota_3 * 0.5\r\n",
    "print(media / 3)"
   ],
   "outputs": [
    {
     "output_type": "stream",
     "name": "stdout",
     "text": [
      "1.5 2.45 2.0\n",
      "1.9833333333333334\n",
      "1.9833333333333332\n"
     ]
    }
   ],
   "metadata": {
    "collapsed": false
   }
  },
  {
   "cell_type": "markdown",
   "source": [
    "**5) La siguiente matriz (o lista con listas anidadas) debe cumplir una condición, y es que en cada fila, el cuarto elemento siempre debe ser el resultado de sumar los tres primeros. ¿Eres capaz de modificar las sumas incorrectas utilizando la técnica del slicing?**\n",
    "\n",
    "*Ayuda: La función llamada sum(lista) devuelve una suma de todos los elementos de la lista ¡Pruébalo!*"
   ],
   "metadata": {}
  },
  {
   "cell_type": "code",
   "execution_count": 56,
   "source": [
    "matriz = [ \r\n",
    "    [1, 1, 1, 3],\r\n",
    "    [2, 2, 2, 7],\r\n",
    "    [3, 3, 3, 9],\r\n",
    "    [4, 4, 4, 13]\r\n",
    "]\r\n",
    "\r\n",
    "# Completa el ejercicio aquí\r\n",
    "n = 0\r\n",
    "while n < 4:\r\n",
    "    valor = sum(matriz[n][0:3]) #Acordate que es desde el principio hasta el final pero no tiene en cuenta el final\r\n",
    "    matriz[n][-1] = valor\r\n",
    "    n = n + 1\r\n",
    "print(matriz)"
   ],
   "outputs": [
    {
     "output_type": "stream",
     "name": "stdout",
     "text": [
      "[[1, 1, 1, 3], [2, 2, 2, 6], [3, 3, 3, 9], [4, 4, 4, 12]]\n"
     ]
    }
   ],
   "metadata": {
    "collapsed": false
   }
  },
  {
   "cell_type": "markdown",
   "source": [
    "**6) Al realizar una consulta en un registro hemos obtenido una cadena de texto corrupta al revés. Al parecer contiene el nombre de un alumno y la nota de un exámen. ¿Cómo podríamos formatear la cadena y conseguir una estructura como la siguiente?:**\n",
    "\n",
    "* ***Nombre*** ***Apellido*** ha sacado un ***Nota*** de nota.\n",
    "\n",
    "*Ayuda: Para voltear una cadena rápidamente utilizando slicing podemos utilizar un tercer índice -1: **cadena[::-1]** *"
   ],
   "metadata": {}
  },
  {
   "cell_type": "code",
   "execution_count": 81,
   "source": [
    "cadena = \"zeréP nauJ,01\"\r\n",
    "\r\n",
    "# Completa el ejercicio aquí\r\n",
    "cadena_nueva = cadena[::-1]\r\n",
    "print(cadena_nueva[3:], \"ha sacado un\",cadena_nueva[:2], \"de nota\")"
   ],
   "outputs": [
    {
     "output_type": "stream",
     "name": "stdout",
     "text": [
      "Juan Pérez ha sacado un 10 de nota\n"
     ]
    }
   ],
   "metadata": {
    "collapsed": false
   }
  }
 ],
 "metadata": {
  "anaconda-cloud": {},
  "kernelspec": {
   "name": "python3",
   "display_name": "Python 3.8.8 64-bit ('base': conda)"
  },
  "language_info": {
   "codemirror_mode": {
    "name": "ipython",
    "version": 3
   },
   "file_extension": ".py",
   "mimetype": "text/x-python",
   "name": "python",
   "nbconvert_exporter": "python",
   "pygments_lexer": "ipython3",
   "version": "3.8.8"
  },
  "interpreter": {
   "hash": "1386f00db9e6238f77d958fc7d28ba18915e180ae7aa41965f9b6571c5908d2d"
  }
 },
 "nbformat": 4,
 "nbformat_minor": 2
}