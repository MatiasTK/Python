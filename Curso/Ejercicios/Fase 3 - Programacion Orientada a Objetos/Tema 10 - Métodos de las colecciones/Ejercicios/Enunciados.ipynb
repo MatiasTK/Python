{
 "cells": [
  {
   "cell_type": "markdown",
   "metadata": {},
   "source": [
    "# Tema 10: Métodos de las colecciones (Enunciados)\n",
    "*Nota: Estos ejercicios son optativos para hacer al final de la unidad y están pensados para apoyar tu aprendizaje*."
   ]
  },
  {
   "cell_type": "markdown",
   "metadata": {},
   "source": [
    "**1) Utilizando todo lo que sabes sobre cadenas, listas, sus métodos internos... Transforma este texto:**\n",
    "\n",
    "```\n",
    "un día que el viento soplaba con fuerza#mira como se mueve aquella banderola -dijo un monje#lo que se mueve es el viento -respondió otro monje#ni las banderolas ni el viento, lo que se mueve son vuestras mentes -dijo el maestro\n",
    "```\n",
    "**En este otro:**\n",
    "\n",
    "```\n",
    "Un día que el viento soplaba con fuerza...\n",
    "- Mira como se mueve aquella banderola -dijo un monje.\n",
    "- Lo que se mueve es el viento -respondió otro monje.\n",
    "- Ni las banderolas ni el viento, lo que se mueve son vuestras mentes -dijo el maestro.\n",
    "```\n",
    "**Lo único prohibido es modificar directamente el texto**"
   ]
  },
  {
   "cell_type": "code",
   "execution_count": 78,
   "metadata": {
    "collapsed": false
   },
   "outputs": [
    {
     "name": "stdout",
     "output_type": "stream",
     "text": [
      "Un día que el viento soplaba con fuerza...\n",
      "- Mira como se mueve aquella banderola -dijo un monje.\n",
      "- Lo que se mueve es el viento -respondió otro monje.\n",
      "- Ni las banderolas ni el viento, lo que se mueve son vuestras mentes -dijo el maestro.\n"
     ]
    }
   ],
   "source": [
    "# Completa el ejercicio aquí\n",
    "texto = \"un día que el viento soplaba con fuerza#mira como se mueve aquella banderola -dijo un monje#lo que se mueve es el viento -respondió otro monje#ni las banderolas ni el viento, lo que se mueve son vuestras mentes -dijo el maestro\"\n",
    "texto = texto.replace(\"#\",\"...\\n\",1)\n",
    "texto = texto.replace(\"#\",\".\\n\")\n",
    "tf = []\n",
    "for x in texto.split(\"\\n\"):\n",
    "    tf.append(x.capitalize())\n",
    "texto = \"\\n- \".join(tf)\n",
    "texto = texto.replace(\"maestro\",\"maestro.\")\n",
    "print(texto)"
   ]
  },
  {
   "cell_type": "code",
   "execution_count": 82,
   "metadata": {},
   "outputs": [
    {
     "name": "stdout",
     "output_type": "stream",
     "text": [
      "Un día que el viento soplaba con fuerza...\n",
      "- Mira como se mueve aquella banderola -dijo un monje.\n",
      "- Lo que se mueve es el viento -respondió otro monje.\n",
      "- Ni las banderolas ni el viento, lo que se mueve son vuestras mentes -dijo el maestro.\n"
     ]
    }
   ],
   "source": [
    "#Como lo hace el profe:\n",
    "texto = \"un día que el viento soplaba con fuerza#mira como se mueve aquella banderola -dijo un monje#lo que se mueve es el viento -respondió otro monje#ni las banderolas ni el viento, lo que se mueve son vuestras mentes -dijo el maestro\"\n",
    "lineas = texto.split(\"#\")\n",
    "for i,linea in enumerate(lineas):\n",
    "    lineas[i] = linea.capitalize()\n",
    "    if i == 0:\n",
    "        lineas[i] = lineas[i] + \"...\"\n",
    "    else:\n",
    "        lineas[i] = \"- \" + lineas[i] + \".\"\n",
    "\n",
    "for linea in lineas:\n",
    "    print(linea)\n"
   ]
  },
  {
   "cell_type": "markdown",
   "metadata": {},
   "source": [
    "**2) Crea una función modificar() que a partir de una lista de números realice las siguientes tareas sin modificar la original:**\n",
    "\n",
    "* Borrar los elementos duplicados\n",
    "* Ordenar la lista de mayor a menor\n",
    "* Eliminar todos los números impares\n",
    "* Realizar una suma de todos los números que quedan\n",
    "* Añadir como primer elemento de la lista la suma realizada\n",
    "* Devolver la lista modificada\n",
    "* Finalmente, después de ejecutar la función, comprueba que la suma de todos los números a partir del segundo, concuerda con el primer número de la lista, tal que así:\n",
    "```python\n",
    "nueva_lista = modificar(lista)\n",
    "print( nueva_lista[0] == sum(nueva_lista[1:]) )\n",
    "> True\n",
    "```\n",
    "\n",
    "*Nota: La función sum(lista) devuelve una suma de los elementos de una lista*"
   ]
  },
  {
   "cell_type": "code",
   "execution_count": 68,
   "metadata": {
    "collapsed": false
   },
   "outputs": [
    {
     "name": "stdout",
     "output_type": "stream",
     "text": [
      "Modificada:\n",
      "[52, 24, 17, 16, 12, -5, -12]\n",
      "La suma de valores esta bien YEY!\n",
      "==============================\n",
      "Original:\n",
      "[29, -5, -12, 17, 5, 24, 5, 12, 23, 16, 12, 5, -12, 17]\n",
      "==============================\n",
      "Las lista original no se modifico YEY!\n"
     ]
    }
   ],
   "source": [
    "# Completa el ejercicio aquí\n",
    "def modificar(lista):\n",
    "    lt = set(lista)\n",
    "    lt = list(lt)\n",
    "    lt.sort(reverse=True)\n",
    "    \n",
    "    for i in lt:\n",
    "        if not i%2 == 0:\n",
    "            lt.remove(i)\n",
    "    \n",
    "    suma = sum(lt)\n",
    "    lt.insert(0,suma)\n",
    "    \n",
    "    return lt\n",
    "    \n",
    "\n",
    "\n",
    "lista = [29, -5, -12, 17, 5, 24, 5, 12, 23, 16, 12, 5, -12, 17]\n",
    "\n",
    "print(\"Modificada:\")\n",
    "print(modificar(lista))\n",
    "nueva_lista = modificar(lista)\n",
    "if(nueva_lista[0] == sum(nueva_lista[1:])):\n",
    "    print(\"La suma de valores esta bien YEY!\")\n",
    "else:\n",
    "    print(\"La suma de valores esta mal :-(\")\n",
    "    \n",
    "print(\"==============================\")\n",
    "print(\"Original:\")\n",
    "print(lista)\n",
    "print(\"==============================\")\n",
    "E = [29, -5, -12, 17, 5, 24, 5, 12, 23, 16, 12, 5, -12, 17]\n",
    "if E == lista:\n",
    "    print(\"Las lista original no se modifico YEY!\")\n",
    "else:\n",
    "    print(\"La lista original se modifico :-(\")\n"
   ]
  },
  {
   "cell_type": "code",
   "execution_count": 89,
   "metadata": {},
   "outputs": [
    {
     "name": "stdout",
     "output_type": "stream",
     "text": [
      "True\n"
     ]
    }
   ],
   "source": [
    "#Como lo hace el profe\n",
    "lista = [29, -5, -12, 17, 5, 24, 5, 12, 23, 16, 12, 5, -12, 17]\n",
    "\n",
    "def modificar(l):\n",
    "    l = list(set(l)) #Cuando la convertis en conjunto ya no estas modificando la original IMPORTANTE!\n",
    "    l.sort(reverse=True)\n",
    "    \n",
    "    for i,n in enumerate(l):\n",
    "        if n % 2 != 0:\n",
    "            del(l[i])\n",
    "    \n",
    "    suma = sum(l)\n",
    "    l.insert(0,suma)\n",
    "    \n",
    "    return l\n",
    "\n",
    "nueva_lista = modificar(lista)\n",
    "\n",
    "print(nueva_lista[0] == sum(nueva_lista[1:]))"
   ]
  }
 ],
 "metadata": {
  "anaconda-cloud": {},
  "interpreter": {
   "hash": "1386f00db9e6238f77d958fc7d28ba18915e180ae7aa41965f9b6571c5908d2d"
  },
  "kernelspec": {
   "display_name": "Python 3.8.8 64-bit ('base': conda)",
   "name": "python3"
  },
  "language_info": {
   "codemirror_mode": {
    "name": "ipython",
    "version": 3
   },
   "file_extension": ".py",
   "mimetype": "text/x-python",
   "name": "python",
   "nbconvert_exporter": "python",
   "pygments_lexer": "ipython3",
   "version": "3.8.8"
  }
 },
 "nbformat": 4,
 "nbformat_minor": 2
}
