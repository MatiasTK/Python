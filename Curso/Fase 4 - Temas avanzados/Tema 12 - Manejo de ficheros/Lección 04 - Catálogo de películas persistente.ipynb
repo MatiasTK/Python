{
 "cells": [
  {
   "cell_type": "code",
   "execution_count": 24,
   "source": [
    "from io import open\r\n",
    "import pickle\r\n",
    "\r\n",
    "class Pelicula:\r\n",
    "    \r\n",
    "    # Constructor de clase\r\n",
    "    def __init__(self, titulo, duracion, lanzamiento):\r\n",
    "        self.titulo = titulo\r\n",
    "        self.duracion = duracion\r\n",
    "        self.lanzamiento = lanzamiento\r\n",
    "        print('Se ha creado la película:',self.titulo)\r\n",
    "        \r\n",
    "    def __str__(self):\r\n",
    "        return '{} ({})'.format(self.titulo, self.lanzamiento)\r\n",
    "\r\n",
    "\r\n",
    "class Catalogo:\r\n",
    "    \r\n",
    "    peliculas = []\r\n",
    "    \r\n",
    "    # Constructor de clase\r\n",
    "    def __init__(self):\r\n",
    "        self.cargar()\r\n",
    "        \r\n",
    "    def agregar(self,p):\r\n",
    "        self.peliculas.append(p)\r\n",
    "        self.guardar()\r\n",
    "        \r\n",
    "    def mostrar(self):\r\n",
    "        if len(self.peliculas) == 0:\r\n",
    "            print(\"El catalogo esta vacio\")\r\n",
    "            return\r\n",
    "        for p in self.peliculas:\r\n",
    "            print(p)\r\n",
    "    \r\n",
    "    def cargar(self):\r\n",
    "        fichero = open(\"catalogo.pckl\",\"ab+\") #Apend Binary con funciones de lectura -> Si no existe lo crea\r\n",
    "        fichero.seek(0)\r\n",
    "        try:\r\n",
    "            self.peliculas = pickle.load(fichero)\r\n",
    "        except:\r\n",
    "            print(\"El fichero esta vacio, prueba denuevo!\")\r\n",
    "        finally:\r\n",
    "            fichero.close()\r\n",
    "            print(\"Se han cargado {} peliculas\".format(len(self.peliculas)))\r\n",
    "            \r\n",
    "    def guardar(self):\r\n",
    "        fichero = open(\"catalogo.pckl\",\"wb\")\r\n",
    "        pickle.dump(self.peliculas,fichero)\r\n",
    "        fichero.close()\r\n",
    "    \r\n",
    "    # Destructor de clase -> por si nos olvidamos de guardar lo guarda temporalmente automaticamente\r\n",
    "    def __del__(self):\r\n",
    "        self.guardar()\r\n",
    "        print(\"Se ha guardado el fichero\")"
   ],
   "outputs": [],
   "metadata": {
    "collapsed": true
   }
  },
  {
   "cell_type": "code",
   "execution_count": 25,
   "source": [
    "c = Catalogo()"
   ],
   "outputs": [
    {
     "output_type": "stream",
     "name": "stdout",
     "text": [
      "El fichero esta vacio, prueba denuevo!\n",
      "Se han cargado 0 peliculas\n"
     ]
    }
   ],
   "metadata": {}
  },
  {
   "cell_type": "code",
   "execution_count": 26,
   "source": [
    "c.mostrar()"
   ],
   "outputs": [
    {
     "output_type": "stream",
     "name": "stdout",
     "text": [
      "El catalogo esta vacio\n"
     ]
    }
   ],
   "metadata": {}
  },
  {
   "cell_type": "code",
   "execution_count": 27,
   "source": [
    "c.agregar(Pelicula(\"El Padrino\",175,1972))"
   ],
   "outputs": [
    {
     "output_type": "stream",
     "name": "stdout",
     "text": [
      "Se ha creado la película: El Padrino\n"
     ]
    }
   ],
   "metadata": {}
  },
  {
   "cell_type": "code",
   "execution_count": 28,
   "source": [
    "c.agregar(Pelicula(\"El Padrino: Parte 2\",202,1974))"
   ],
   "outputs": [
    {
     "output_type": "stream",
     "name": "stdout",
     "text": [
      "Se ha creado la película: El Padrino: Parte 2\n"
     ]
    }
   ],
   "metadata": {}
  },
  {
   "cell_type": "code",
   "execution_count": 29,
   "source": [
    "del(c)"
   ],
   "outputs": [
    {
     "output_type": "stream",
     "name": "stdout",
     "text": [
      "Se ha guardado el fichero\n"
     ]
    }
   ],
   "metadata": {}
  },
  {
   "cell_type": "code",
   "execution_count": 30,
   "source": [
    "c = Catalogo()"
   ],
   "outputs": [
    {
     "output_type": "stream",
     "name": "stdout",
     "text": [
      "Se han cargado 2 peliculas\n"
     ]
    }
   ],
   "metadata": {}
  },
  {
   "cell_type": "code",
   "execution_count": 31,
   "source": [
    "c.mostrar()"
   ],
   "outputs": [
    {
     "output_type": "stream",
     "name": "stdout",
     "text": [
      "El Padrino (1972)\n",
      "El Padrino: Parte 2 (1974)\n"
     ]
    }
   ],
   "metadata": {}
  }
 ],
 "metadata": {
  "kernelspec": {
   "name": "python3",
   "display_name": "Python 3.8.8 64-bit ('base': conda)"
  },
  "language_info": {
   "codemirror_mode": {
    "name": "ipython",
    "version": 3
   },
   "file_extension": ".py",
   "mimetype": "text/x-python",
   "name": "python",
   "nbconvert_exporter": "python",
   "pygments_lexer": "ipython3",
   "version": "3.8.8"
  },
  "interpreter": {
   "hash": "1386f00db9e6238f77d958fc7d28ba18915e180ae7aa41965f9b6571c5908d2d"
  }
 },
 "nbformat": 4,
 "nbformat_minor": 2
}