{
 "cells": [
  {
   "cell_type": "markdown",
   "source": [
    "## Ejemplo de cabecera\n",
    "Intenta deducir qué hace este programa (no hace falta que le des muchas vueltas)."
   ],
   "metadata": {}
  },
  {
   "cell_type": "code",
   "execution_count": 3,
   "source": [
    "n = 0\r\n",
    "while n < 10:  # while = mientras\r\n",
    "    if (n % 2) == 0: # if = si (de condicion)\r\n",
    "        print(n,'es un número par')\r\n",
    "    else:  # else = sino (def condicion)\r\n",
    "        print(n,'es un número impar')\r\n",
    "    n = n + 1"
   ],
   "outputs": [
    {
     "output_type": "stream",
     "name": "stdout",
     "text": [
      "0 es un número par\n",
      "1 es un número impar\n",
      "2 es un número par\n",
      "3 es un número impar\n",
      "4 es un número par\n",
      "5 es un número impar\n",
      "6 es un número par\n",
      "7 es un número impar\n",
      "8 es un número par\n",
      "9 es un número impar\n"
     ]
    }
   ],
   "metadata": {
    "collapsed": true
   }
  },
  {
   "cell_type": "markdown",
   "source": [
    "El programa claramente agarra desde 0 a 9 -> No 10 ya que n < 10 y si el resto de dividirlo por 2 es 0 es par sino es impar"
   ],
   "metadata": {}
  }
 ],
 "metadata": {
  "kernelspec": {
   "name": "python3",
   "display_name": "Python 3.8.8 64-bit ('base': conda)"
  },
  "language_info": {
   "codemirror_mode": {
    "name": "ipython",
    "version": 3
   },
   "file_extension": ".py",
   "mimetype": "text/x-python",
   "name": "python",
   "nbconvert_exporter": "python",
   "pygments_lexer": "ipython3",
   "version": "3.8.8"
  },
  "interpreter": {
   "hash": "1386f00db9e6238f77d958fc7d28ba18915e180ae7aa41965f9b6571c5908d2d"
  }
 },
 "nbformat": 4,
 "nbformat_minor": 2
}