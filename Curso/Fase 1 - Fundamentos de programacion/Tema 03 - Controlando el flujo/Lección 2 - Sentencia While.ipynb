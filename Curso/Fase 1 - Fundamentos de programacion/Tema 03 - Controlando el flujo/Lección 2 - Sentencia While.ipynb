{
 "cells": [
  {
   "cell_type": "code",
   "execution_count": 2,
   "source": [
    "c = 0\r\n",
    "while c <= 5:\r\n",
    "    print(\"c vale\",c)\r\n",
    "    c+= 1 "
   ],
   "outputs": [
    {
     "output_type": "stream",
     "name": "stdout",
     "text": [
      "c vale 0\n",
      "c vale 1\n",
      "c vale 2\n",
      "c vale 3\n",
      "c vale 4\n",
      "c vale 5\n"
     ]
    }
   ],
   "metadata": {
    "collapsed": true
   }
  },
  {
   "cell_type": "code",
   "execution_count": 3,
   "source": [
    "#Else con while(WTF)\r\n",
    "c = 0\r\n",
    "while c <= 5:\r\n",
    "    print(\"C vale\",c)\r\n",
    "    c+=1\r\n",
    "else:\r\n",
    "    print(\"Se ha completado la iteracion y c vale\",c)"
   ],
   "outputs": [
    {
     "output_type": "stream",
     "name": "stdout",
     "text": [
      "C vale 0\n",
      "C vale 1\n",
      "C vale 2\n",
      "C vale 3\n",
      "C vale 4\n",
      "C vale 5\n",
      "Se ha completado la iteracion y c vale 6\n"
     ]
    }
   ],
   "metadata": {}
  },
  {
   "cell_type": "code",
   "execution_count": 6,
   "source": [
    "#Break (No era mala practica?)\r\n",
    "c = 0\r\n",
    "while c <= 5:\r\n",
    "    if c == 2:\r\n",
    "        print(\"Rompemos el bucle cuando C vale\",c)\r\n",
    "        break\r\n",
    "    print(\"C vale\",c)\r\n",
    "    c+=1\r\n",
    "else:\r\n",
    "    print(\"Se ha completado la iteracion y C vale\",c)\r\n",
    "#No se muestra el else ya que no se completo la iteracion\r\n"
   ],
   "outputs": [
    {
     "output_type": "stream",
     "name": "stdout",
     "text": [
      "C vale 0\n",
      "C vale 1\n",
      "Rompemos el bucle cuando C vale 2\n"
     ]
    }
   ],
   "metadata": {}
  },
  {
   "cell_type": "code",
   "execution_count": 13,
   "source": [
    "#Continue -> Skipea 1 iteraccion\r\n",
    "#MUY IMPORTANTE -> el i+=1 debe estar arriba de todo el continue lo que hace es volver a ejecutar el codigo, si no esta i+=1 arriba va a entrar en un loop\r\n",
    "c = 0\r\n",
    "while c <= 5:\r\n",
    "    c+=1\r\n",
    "    if c == 2:\r\n",
    "        print(\"Nos skipeamos a la siguiente iteraccion, C valeria en la que skipeamos\",c)\r\n",
    "        continue \r\n",
    "    print(\"C vale\",c)\r\n",
    "else:\r\n",
    "    print(\"Se ha completado la iteracion y C vale\",c)"
   ],
   "outputs": [
    {
     "output_type": "stream",
     "name": "stdout",
     "text": [
      "C vale 1\n",
      "Nos skipeamos a la siguiente iteraccion, C valeria en la que skipeamos 2\n",
      "C vale 3\n",
      "C vale 4\n",
      "C vale 5\n",
      "C vale 6\n",
      "Se ha completado la iteracion y C vale 6\n"
     ]
    }
   ],
   "metadata": {}
  },
  {
   "cell_type": "code",
   "execution_count": 14,
   "source": [
    "#MUY FACHERO ESTE EJEMPLO\r\n",
    "print(\"Bienvenido al menu interactivo\")\r\n",
    "while(True): #Se ejecuta infinito xd\r\n",
    "    print(\"\"\"Que quieres hacer? Escribe una opcion\r\n",
    "    1) Saludar\r\n",
    "    2) Sumar dos numeros\r\n",
    "    3) Salir\"\"\")\r\n",
    "    opcion = input()\r\n",
    "    if opcion == \"1\": #Lo pongo entre \"\" ya que es una cadena de texto NO un numero\r\n",
    "        print(\"Hola, ¿como estas?\")\r\n",
    "    elif opcion == \"2\":\r\n",
    "        n1 = float(input(\"Introduce el primer numero: \"))\r\n",
    "        n2 = float(input(\"Introduce el segundo numero: \"))\r\n",
    "        print(\"El resultado de la suma es:\",n1+n2)\r\n",
    "    elif opcion == \"3\":\r\n",
    "        print(\"Hasta luego, ha sido un placer :)\")\r\n",
    "        break #Si no existiera esto quedaria en un loop infinito\r\n",
    "    else:\r\n",
    "        print(\"Comando no valido, vuelve a intentarlo\")"
   ],
   "outputs": [
    {
     "output_type": "stream",
     "name": "stdout",
     "text": [
      "Bienvenido al menu interactivo\n",
      "Que quieres hacer? Escribe una opcion\n",
      "    1) Saludar\n",
      "    2) Sumar dos numeros\n",
      "    3) Salir\n",
      "Hola, ¿como estas?\n",
      "Que quieres hacer? Escribe una opcion\n",
      "    1) Saludar\n",
      "    2) Sumar dos numeros\n",
      "    3) Salir\n",
      "Hola, ¿como estas?\n",
      "Que quieres hacer? Escribe una opcion\n",
      "    1) Saludar\n",
      "    2) Sumar dos numeros\n",
      "    3) Salir\n",
      "El resultado de la suma es: 3.0\n",
      "Que quieres hacer? Escribe una opcion\n",
      "    1) Saludar\n",
      "    2) Sumar dos numeros\n",
      "    3) Salir\n",
      "Comando no valido, vuelve a intentarlo\n",
      "Que quieres hacer? Escribe una opcion\n",
      "    1) Saludar\n",
      "    2) Sumar dos numeros\n",
      "    3) Salir\n",
      "Hasta luego, ha sido un placer :)\n"
     ]
    }
   ],
   "metadata": {}
  },
  {
   "cell_type": "code",
   "execution_count": null,
   "source": [],
   "outputs": [],
   "metadata": {}
  }
 ],
 "metadata": {
  "kernelspec": {
   "name": "python3",
   "display_name": "Python 3.8.8 64-bit ('base': conda)"
  },
  "language_info": {
   "codemirror_mode": {
    "name": "ipython",
    "version": 3
   },
   "file_extension": ".py",
   "mimetype": "text/x-python",
   "name": "python",
   "nbconvert_exporter": "python",
   "pygments_lexer": "ipython3",
   "version": "3.8.8"
  },
  "interpreter": {
   "hash": "1386f00db9e6238f77d958fc7d28ba18915e180ae7aa41965f9b6571c5908d2d"
  }
 },
 "nbformat": 4,
 "nbformat_minor": 2
}