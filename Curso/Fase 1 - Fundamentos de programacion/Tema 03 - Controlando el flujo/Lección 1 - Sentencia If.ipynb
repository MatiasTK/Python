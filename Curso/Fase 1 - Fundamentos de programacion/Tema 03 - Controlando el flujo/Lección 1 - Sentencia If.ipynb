{
 "cells": [
  {
   "cell_type": "code",
   "execution_count": 5,
   "source": [
    "if not False:\r\n",
    "    print(\"Se cumple la condicion\")\r\n",
    "    print(\"Tambien se muestra esto\")"
   ],
   "outputs": [
    {
     "output_type": "stream",
     "name": "stdout",
     "text": [
      "Se cumple la condicion\n",
      "Tambien se muestra esto\n"
     ]
    }
   ],
   "metadata": {
    "collapsed": true
   }
  },
  {
   "cell_type": "code",
   "execution_count": 6,
   "source": [
    "a = 5\r\n",
    "if a == 2:\r\n",
    "    print(\"a = 2\")\r\n",
    "\r\n",
    "if a == 5:\r\n",
    "    print(\"a = 5\")"
   ],
   "outputs": [
    {
     "output_type": "stream",
     "name": "stdout",
     "text": [
      "a = 5\n"
     ]
    }
   ],
   "metadata": {}
  },
  {
   "cell_type": "code",
   "execution_count": 8,
   "source": [
    "#if anidados\r\n",
    "a = 5\r\n",
    "b = 10\r\n",
    "\r\n",
    "if a == 5:\r\n",
    "    print(\"a vale\",a)\r\n",
    "    if b == 10:\r\n",
    "        print(\"b vale\",b)"
   ],
   "outputs": [
    {
     "output_type": "stream",
     "name": "stdout",
     "text": [
      "a vale 5\n",
      "b vale 10\n"
     ]
    }
   ],
   "metadata": {}
  },
  {
   "cell_type": "code",
   "execution_count": 9,
   "source": [
    "if a == 5 and b == 10:\r\n",
    "    print(\"a vale\",a,\"y b vale\",b)"
   ],
   "outputs": [
    {
     "output_type": "stream",
     "name": "stdout",
     "text": [
      "a vale 5 y b vale 10\n"
     ]
    }
   ],
   "metadata": {}
  },
  {
   "cell_type": "code",
   "execution_count": 13,
   "source": [
    "#else\r\n",
    "n = 9\r\n",
    "if n % 2 == 0:\r\n",
    "    print(n,\"es un numero par\")\r\n",
    "else:\r\n",
    "    print(n,\"es un numero impar\")"
   ],
   "outputs": [
    {
     "output_type": "stream",
     "name": "stdout",
     "text": [
      "9 es un numero impar\n"
     ]
    }
   ],
   "metadata": {}
  },
  {
   "cell_type": "code",
   "execution_count": 17,
   "source": [
    "#elif -> ES EL ELSE IF DE C\r\n",
    "comando = \"SALIR\"\r\n",
    "if comando == \"ENTRAR\":\r\n",
    "    print(\"Bienvenido al sistema!\")\r\n",
    "elif comando == \"SALUDAR\":\r\n",
    "    print(\"Hola que tal como estas?\")\r\n",
    "elif comando == \"SALIR\":\r\n",
    "    print(\"Saliendo del sistema\")\r\n",
    "else:\r\n",
    "    print(\"Este comando no es un comando valido\")"
   ],
   "outputs": [
    {
     "output_type": "stream",
     "name": "stdout",
     "text": [
      "Saliendo del sistema\n"
     ]
    }
   ],
   "metadata": {}
  },
  {
   "cell_type": "code",
   "execution_count": 23,
   "source": [
    "nota = float(input(\"Introduce una nota: \"))\r\n",
    "if nota >= 9:\r\n",
    "    print(\"Sobresaliente\")\r\n",
    "elif nota >= 7:\r\n",
    "    print(\"Notable\")\r\n",
    "elif nota >= 6:\r\n",
    "    print(\"Bien\")\r\n",
    "elif nota >= 5:\r\n",
    "    print(\"Suficiente\")\r\n",
    "else:\r\n",
    "    print(\"Insuficiente\")"
   ],
   "outputs": [
    {
     "output_type": "stream",
     "name": "stdout",
     "text": [
      "Insuficiente\n"
     ]
    }
   ],
   "metadata": {}
  }
 ],
 "metadata": {
  "kernelspec": {
   "name": "python3",
   "display_name": "Python 3.8.8 64-bit ('base': conda)"
  },
  "language_info": {
   "codemirror_mode": {
    "name": "ipython",
    "version": 3
   },
   "file_extension": ".py",
   "mimetype": "text/x-python",
   "name": "python",
   "nbconvert_exporter": "python",
   "pygments_lexer": "ipython3",
   "version": "3.8.8"
  },
  "interpreter": {
   "hash": "1386f00db9e6238f77d958fc7d28ba18915e180ae7aa41965f9b6571c5908d2d"
  }
 },
 "nbformat": 4,
 "nbformat_minor": 2
}